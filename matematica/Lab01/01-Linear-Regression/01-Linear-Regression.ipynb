{
 "cells": [
  {
   "cell_type": "markdown",
   "metadata": {},
   "source": [
    "# <font color='blue'>Data Science Academy</font>\n",
    "# <font color='blue'>Matemática Para Machine Learning</font>"
   ]
  },
  {
   "cell_type": "markdown",
   "metadata": {},
   "source": [
    "## Implementação do Algoritmo de Regressão Linear em Python"
   ]
  },
  {
   "cell_type": "code",
   "execution_count": 1,
   "metadata": {},
   "outputs": [],
   "source": [
    "# Imports\n",
    "import numpy as np\n",
    "import pandas as pd\n",
    "from matplotlib import pyplot as plt"
   ]
  },
  {
   "cell_type": "code",
   "execution_count": 2,
   "metadata": {},
   "outputs": [],
   "source": [
    "# Gerando dados randômicos\n",
    "np.random.seed(0)\n",
    "\n",
    "# Array de 200 elementos com média de 1.5 e desvio padrão de 2.5\n",
    "X = 2.5 * np.random.randn(200) + 1.5   \n",
    "\n",
    "# Gerando 200 termos de resíduos\n",
    "res = 0.5 * np.random.randn(200)       \n",
    "\n",
    "# Gerando valores para Y\n",
    "y = 2 + 0.3 * X + res                 "
   ]
  },
  {
   "cell_type": "code",
   "execution_count": 3,
   "metadata": {},
   "outputs": [],
   "source": [
    "# Pandas dataframe para gerar valores de X e Y\n",
    "df = pd.DataFrame({'X': X, 'y': y})"
   ]
  },
  {
   "cell_type": "code",
   "execution_count": 4,
   "metadata": {},
   "outputs": [
    {
     "data": {
      "text/html": [
       "<div>\n",
       "<style scoped>\n",
       "    .dataframe tbody tr th:only-of-type {\n",
       "        vertical-align: middle;\n",
       "    }\n",
       "\n",
       "    .dataframe tbody tr th {\n",
       "        vertical-align: top;\n",
       "    }\n",
       "\n",
       "    .dataframe thead th {\n",
       "        text-align: right;\n",
       "    }\n",
       "</style>\n",
       "<table border=\"1\" class=\"dataframe\">\n",
       "  <thead>\n",
       "    <tr style=\"text-align: right;\">\n",
       "      <th></th>\n",
       "      <th>X</th>\n",
       "      <th>y</th>\n",
       "    </tr>\n",
       "  </thead>\n",
       "  <tbody>\n",
       "    <tr>\n",
       "      <th>0</th>\n",
       "      <td>5.910131</td>\n",
       "      <td>3.588448</td>\n",
       "    </tr>\n",
       "    <tr>\n",
       "      <th>1</th>\n",
       "      <td>2.500393</td>\n",
       "      <td>2.630428</td>\n",
       "    </tr>\n",
       "    <tr>\n",
       "      <th>2</th>\n",
       "      <td>3.946845</td>\n",
       "      <td>3.733883</td>\n",
       "    </tr>\n",
       "    <tr>\n",
       "      <th>3</th>\n",
       "      <td>7.102233</td>\n",
       "      <td>4.458302</td>\n",
       "    </tr>\n",
       "    <tr>\n",
       "      <th>4</th>\n",
       "      <td>6.168895</td>\n",
       "      <td>4.170734</td>\n",
       "    </tr>\n",
       "  </tbody>\n",
       "</table>\n",
       "</div>"
      ],
      "text/plain": [
       "          X         y\n",
       "0  5.910131  3.588448\n",
       "1  2.500393  2.630428\n",
       "2  3.946845  3.733883\n",
       "3  7.102233  4.458302\n",
       "4  6.168895  4.170734"
      ]
     },
     "execution_count": 4,
     "metadata": {},
     "output_type": "execute_result"
    }
   ],
   "source": [
    "# Primeiras linhas do dataframe\n",
    "df.head()"
   ]
  },
  {
   "cell_type": "markdown",
   "metadata": {},
   "source": [
    "Para estimar y usando o método OLS, precisamos calcular xmean e ymean, a covariância de X e y (xycov) e a variância de X (xvar) antes de podermos determinar os valores para alfa e beta."
   ]
  },
  {
   "cell_type": "code",
   "execution_count": 5,
   "metadata": {},
   "outputs": [],
   "source": [
    "# Calcula a média de X e Y.\n",
    "xmean = np.mean(X)\n",
    "ymean = np.mean(y)"
   ]
  },
  {
   "cell_type": "code",
   "execution_count": 6,
   "metadata": {},
   "outputs": [
    {
     "data": {
      "image/gif": "[encoded data removed]",
      "text/plain": [
       "<IPython.core.display.Image object>"
      ]
     },
     "execution_count": 6,
     "metadata": {},
     "output_type": "execute_result"
    }
   ],
   "source": [
    "from IPython.display import Image\n",
    "Image(\"images/formula1.gif\")"
   ]
  },
  {
   "cell_type": "code",
   "execution_count": 7,
   "metadata": {},
   "outputs": [],
   "source": [
    "# Calcula os termos para a fórmula de beta\n",
    "\n",
    "# Co-variância de x e y\n",
    "df['xycov'] = (df['X'] - xmean) * (df['y'] - ymean)\n",
    "\n",
    "# Variância de x\n",
    "df['xvar'] = (df['X'] - xmean)**2"
   ]
  },
  {
   "cell_type": "code",
   "execution_count": 8,
   "metadata": {},
   "outputs": [],
   "source": [
    "# Calcula beta\n",
    "beta = df['xycov'].sum() / df['xvar'].sum()"
   ]
  },
  {
   "cell_type": "code",
   "execution_count": 9,
   "metadata": {},
   "outputs": [],
   "source": [
    "# Calcula alfa\n",
    "alpha = ymean - (beta * xmean)"
   ]
  },
  {
   "cell_type": "code",
   "execution_count": 10,
   "metadata": {},
   "outputs": [
    {
     "name": "stdout",
     "output_type": "stream",
     "text": [
      "alpha = 1.9125694861981977\n",
      "beta = 0.3139650652448394\n"
     ]
    }
   ],
   "source": [
    "# Imprime os resultados\n",
    "print(f'alpha = {alpha}')\n",
    "print(f'beta = {beta}')"
   ]
  },
  {
   "cell_type": "code",
   "execution_count": 11,
   "metadata": {},
   "outputs": [],
   "source": [
    "# Agora que temos os valores de alfa e beta, podemos fazer previsões\n",
    "# Nosso modelo agora pode ser escrito como: Yₑ = 1.9125694861981977 + 0.3139650652448394 * X\n",
    "ypred = alpha + beta * X"
   ]
  },
  {
   "cell_type": "code",
   "execution_count": 12,
   "metadata": {},
   "outputs": [
    {
     "name": "stdout",
     "output_type": "stream",
     "text": [
      "[3.76814411 2.69760554 3.15174092 4.14242253 3.849387   1.6164393\n",
      " 3.12925351 2.26471489 2.3024993  2.70580105 2.49657871 3.52499478\n",
      " 2.98086523 2.47902135 2.73191096 2.64542229 3.55623867 2.22248576\n",
      " 2.62924789 1.71312652 0.37964305 2.8965506  3.062024   1.80098236\n",
      " 4.16507623 1.24196705 2.41943352 2.23659411 3.5866149  3.53683539\n",
      " 2.50513728 2.68034163 1.68668281 0.82876485 2.11043643 2.50623737\n",
      " 3.34918782 3.32728025 2.07949936 2.14623583 1.56049458 1.26892702\n",
      " 1.044244   3.91470539 1.98348463 2.03966702 1.40018214 2.99377911\n",
      " 1.11674823 2.21653454 1.68065404 2.68720175 1.98257966 1.45682393\n",
      " 2.3613965  2.71972019 2.43572729 2.62093111 1.88562964 2.09879695\n",
      " 1.85569436 2.10129925 1.74526827 1.02853601 2.52278111 2.06815414\n",
      " 1.10395376 2.74676074 1.67136711 2.42428968 2.9557895  2.4847574\n",
      " 3.27784711 1.41428666 2.69932013 1.84600097 1.70001737 1.92917065\n",
      " 2.13897556 2.42760197 1.46897622 3.0905872  2.74902143 1.17769996\n",
      " 3.55166508 3.87162451 3.3087561  2.2422918  1.54306979 3.2111696\n",
      " 2.06705839 3.3430297  2.54699475 3.15009343 2.66323358 2.93811531\n",
      " 2.39175868 3.78526945 2.48313199 2.69904363 3.86162591 1.32564393\n",
      " 1.38629732 3.14440884 1.46271767 3.90908996 2.05886231 1.79683034\n",
      " 3.89285863 3.54559189 3.84938776 3.09468301 1.70753014 3.88275125\n",
      " 2.17315784 3.01337527 3.12702715 2.2618477  2.86551576 3.10736878\n",
      " 2.67897825 1.52058348 2.617608   3.42461417 1.83834198 2.26606704\n",
      " 2.04195955 3.8350276  2.91120975 2.70333904 1.77920021 2.8067806\n",
      " 1.85422484 2.40850129 1.88443345 2.91445814 2.83609052 2.22002075\n",
      " 2.69434777 1.52555926 1.21301012 2.72840119 2.51434122 2.8819613\n",
      " 4.2540776  3.12485099 1.66703136 3.26027731 1.35064469 2.02121348\n",
      " 2.32995338 3.72834148 1.79894959 1.73483501 2.30624045 1.86274458\n",
      " 3.26782789 1.53586517 1.48285441 2.03986659 1.99260511 3.89803123\n",
      " 3.1287295  2.45223716 1.42165723 3.04626828 1.59843539 1.17100669\n",
      " 3.31601671 2.63228935 3.10631084 2.63369045 3.05605428 1.87251885\n",
      " 1.57172678 2.91850925 1.75291066 1.84228073 2.02596385 2.3972367\n",
      " 2.10566278 1.3043004  1.87833285 0.63833979 2.87426917 1.12604174\n",
      " 1.51667262 2.42446212 1.80302472 3.59464878 1.36873732 2.59312869\n",
      " 2.3526835  1.46666571 2.79424356 2.2488682  2.98930526 3.02989592\n",
      " 4.08146837 3.4325748 ]\n"
     ]
    }
   ],
   "source": [
    "print(ypred)"
   ]
  },
  {
   "cell_type": "code",
   "execution_count": 13,
   "metadata": {},
   "outputs": [
    {
     "data": {
      "image/png": "[encoded data removed]",
      "text/plain": [
       "<Figure size 864x432 with 1 Axes>"
      ]
     },
     "metadata": {
      "needs_background": "light"
     },
     "output_type": "display_data"
    }
   ],
   "source": [
    "# Plot \n",
    "plt.figure(figsize=(12, 6))\n",
    "plt.plot(X, ypred)    \n",
    "plt.plot(X, y, 'ro')   \n",
    "plt.title('Real (Vermelho) vs Previsto (Linha Azul)')\n",
    "plt.xlabel('X')\n",
    "plt.ylabel('y')\n",
    "plt.show()"
   ]
  },
  {
   "cell_type": "markdown",
   "metadata": {},
   "source": [
    "A linha azul é a nossa linha de melhor ajuste, Yₑ = 1.9125694861981977 + 0.3139650652448394 * X. Podemos ver neste gráfico que existe uma relação linear positiva entre X e y. Usando nosso modelo, podemos prever y de qualquer valor de X!\n",
    "\n",
    "Por exemplo, se tivéssemos um valor X = 28, podemos prever que:\n",
    "\n",
    "Yₑ = 1.9125694861981977 + 0.3139650652448394 * (28) \n",
    "\n",
    "Yₑ = 10.70"
   ]
  },
  {
   "cell_type": "markdown",
   "metadata": {},
   "source": [
    "# Fim"
   ]
  }
 ],
 "metadata": {
  "anaconda-cloud": {},
  "kernelspec": {
   "display_name": "Python 3",
   "language": "python",
   "name": "python3"
  },
  "language_info": {
   "codemirror_mode": {
    "name": "ipython",
    "version": 3
   },
   "file_extension": ".py",
   "mimetype": "text/x-python",
   "name": "python",
   "nbconvert_exporter": "python",
   "pygments_lexer": "ipython3",
   "version": "3.7.1"
  }
 },
 "nbformat": 4,
 "nbformat_minor": 1
}
