{
 "cells": [
  {
   "cell_type": "markdown",
   "metadata": {},
   "source": [
    "# <font color='blue'>Data Science Academy</font>\n",
    "# <font color='blue'>Matemática Para Machine Learning</font>"
   ]
  },
  {
   "cell_type": "markdown",
   "metadata": {},
   "source": [
    "## Hello World Programação Quântica"
   ]
  },
  {
   "cell_type": "code",
   "execution_count": 1,
   "metadata": {},
   "outputs": [],
   "source": [
    "%matplotlib inline\n",
    "import qiskit"
   ]
  },
  {
   "cell_type": "markdown",
   "metadata": {},
   "source": [
    "## API Token"
   ]
  },
  {
   "cell_type": "markdown",
   "metadata": {},
   "source": [
    "Você precisa acessar o endereço https://quantum-computing.ibm.com/, criar sua conta gratuita e então obter a API Token."
   ]
  },
  {
   "cell_type": "code",
   "execution_count": null,
   "metadata": {},
   "outputs": [],
   "source": [
    "# Para deletar qualquer conta criada (se necessário)\n",
    "#from qiskit import IBMQ\n",
    "#IBMQ.delete_accounts()"
   ]
  },
  {
   "cell_type": "code",
   "execution_count": 2,
   "metadata": {},
   "outputs": [],
   "source": [
    "from qiskit import IBMQ\n",
    "\n",
    "# token = \"API_TOKEN\"\n",
    "# url = \"MY_URL\"\n",
    "\n",
    "token = \"b3c2fb760724edcda6cc29f304865feb059df164afa028cbfd21ee8be161d2afb91423bde58ba7d8dec9e4397fbfae4fbe9ca50b73be9af8f3c8bc4eb3c07fe2\"\n",
    "url = \"https://api.quantum-computing.ibm.com/api/Hubs/ibm-q/Groups/open/Projects/main\"\n",
    "\n",
    "# Para armazenar suas credenciais localmente:\n",
    "IBMQ.save_account(token, url, overwrite = True)"
   ]
  },
  {
   "cell_type": "code",
   "execution_count": 3,
   "metadata": {},
   "outputs": [],
   "source": [
    "# Para carregar a conta salva\n",
    "IBMQ.load_accounts()"
   ]
  },
  {
   "cell_type": "markdown",
   "metadata": {},
   "source": [
    "## Listar os backends disponíveis e escolher um"
   ]
  },
  {
   "cell_type": "code",
   "execution_count": 4,
   "metadata": {},
   "outputs": [
    {
     "name": "stdout",
     "output_type": "stream",
     "text": [
      "[<IBMQSimulator('ibmq_qasm_simulator') from IBMQ(ibm-q, open, main)>, <IBMQBackend('ibmqx4') from IBMQ(ibm-q, open, main)>, <IBMQBackend('ibmqx2') from IBMQ(ibm-q, open, main)>, <IBMQBackend('ibmq_16_melbourne') from IBMQ(ibm-q, open, main)>]\n"
     ]
    }
   ],
   "source": [
    "print(IBMQ.backends()) # remote IBM backends"
   ]
  },
  {
   "cell_type": "code",
   "execution_count": 5,
   "metadata": {},
   "outputs": [],
   "source": [
    "# Escolha um backend disponível\n",
    "# Se este abaixo não estiver disponível, escolha um backend cujo nome contenha '_qasm_simulator' \n",
    "backend = IBMQ.get_backend('ibmq_qasm_simulator') "
   ]
  },
  {
   "cell_type": "markdown",
   "metadata": {},
   "source": [
    "## Computação Quântica\n",
    "\n",
    "### Gates Quânticos e Variáveis Quânticas"
   ]
  },
  {
   "cell_type": "markdown",
   "metadata": {},
   "source": [
    "Em computadores clássicos (por exemplo, laptops, telefones, etc.), todas as interações e informações que geramos acabam sendo compiladas em uma série de bits binários: 0 ou 1. Bits são os blocos de construção fundamentais dos computadores.\n",
    "\n",
    "Na computação quântica, temos bits quânticos ou qubits. O que torna os qubits únicos é que eles não são binários, o que significa que eles podem estar em um estado 0, 1 ou um estado intermediário especial conhecido como superposição. Enquanto em superposição, um qubit é simultaneamente 0 e 1. Quando medimos o qubit, ele sai de seu estado quântico e retorna 0 ou 1.\n",
    "\n",
    "Considere esta analogia: uma bola começa como vermelha ou azul (seu estado inicial). Colocamos essa bola dentro de uma caixa fechada e, enquanto dentro da caixa, a bola usa algumas propriedades quânticas para mudar sua cor para roxa - uma combinação intermediária de vermelho e azul (ou seja, superposição). Quando abrimos esta caixa para observar a bola roxa, de repente ela muda de cor novamente e só vemos uma bola vermelha ou azul.\n",
    "\n",
    "Usamos portais (gates) quânticos para ajudar a mudar o estado de nossos qubits e controlá-los enquanto em superposição. Estas são operações quânticas que são análogas às portas lógicas booleanas clássicas (por exemplo, NOT, AND, XOR, etc.), mas que possuem recursos extras porque são quânticas.\n",
    "\n",
    "Por exemplo, o gate quantumX altera o estado de um qubit de 0 para 1. O gate de Hadamard, H gate, coloca um qubit em superposição e gera uma chance aleatória de 50/50 de medir um 0 ou 1. Usando qiskit, podemos simplesmente importar essas portas em nosso programa.\n",
    "\n",
    "Em certo sentido, os estados de superposição são valores que existem a meio caminho entre os extremos de 0 e 1. Podemos imaginar um qubit como uma esfera, com 0 e 1 sentados em lados opostos. Os estados de superposição são todos os outros pontos possíveis na superfície."
   ]
  },
  {
   "cell_type": "markdown",
   "metadata": {},
   "source": [
    "![title](qubit.png)"
   ]
  },
  {
   "cell_type": "markdown",
   "metadata": {},
   "source": [
    "Além de 0 e 1, essa imagem também sinaliza alguns estados de superposição importantes. Um é chamado u3 (0,5 * pi, 0,0) | 0⟩. É certo que não é um nome muito atraente, mas vamos ver o que realmente significa.\n",
    "\n",
    "Esse modo de pensar sobre qubits faz com que pareçam um pouco com variáveis ​​contínuas. Podemos representar qualquer ponto na superfície de uma esfera (como o ponto ψ na imagem) usando coordenadas polares com apenas alguns ângulos (θ e φ).\n",
    "\n",
    "Uma diferença importante é que nunca podemos extrair mais do que uma informação binária de um qubit. As próprias leis da física nos impedem de descobrir exatamente o que estão fazendo. Não podemos pedir um qubit para os detalhes exatos do estado de superposição. Nós só podemos forçá-lo a escolher entre dois pontos opostos na esfera (como 0 e 1). Se for algo diferente desses dois estados, terá que decidir aleatoriamente um ou outro.\n",
    "\n",
    "Portanto, um qubit tem algumas propriedades de uma variável contínua e algumas propriedades de uma variável discreta. Na verdade, não é nenhum dos dois. É uma variável quântica."
   ]
  },
  {
   "cell_type": "markdown",
   "metadata": {},
   "source": [
    "## 4 Componentes Principais da Computação Quântica"
   ]
  },
  {
   "cell_type": "markdown",
   "metadata": {},
   "source": [
    "- Programa Quântico: O ambiente para executar a simulação / experimento.\n",
    "- Circuito Quântico: O circuito virtual para configurar o experimento.\n",
    "- Registradores Quânticos: O registrador que consiste em qubits.\n",
    "- Registradores Clássicos: O registrador contendo bits.\n",
    "\n",
    "![title](quantum.png)"
   ]
  },
  {
   "cell_type": "markdown",
   "metadata": {},
   "source": [
    "Para obter a saída de uma computação quântica, medimos os qubits nos quais estamos interessados, e a medida sempre produzirá um bit 0 ou bit 1 clássico. Então nós temos uma entrada clássica em bits, que traduzimos para qubits quânticos, após o qual podemos realizar cálculos quânticos. Então, para obter a saída, realizamos uma medição quântica que nos dá os bits clássicos."
   ]
  },
  {
   "cell_type": "markdown",
   "metadata": {},
   "source": [
    "## Execute seu primeiro programa quântico\n",
    "\n",
    "Para este programa, vamos inserir 5 bits \"0\" e medir a saída depois da computação quântica. Em seguida, ele não executa nenhuma ação antes de gerar o equivalente clássico dos bits quânticos. Como eles não mudaram, a saída deve ser 00000."
   ]
  },
  {
   "cell_type": "code",
   "execution_count": 9,
   "metadata": {},
   "outputs": [],
   "source": [
    "import time\n",
    "q = qiskit.QuantumRegister(5)\n",
    "c = qiskit.ClassicalRegister(5)\n",
    "qc = qiskit.QuantumCircuit(q, c)\n",
    "qc.measure(q, c)\n",
    "job_exp = qiskit.execute(qc, backend=backend)"
   ]
  },
  {
   "cell_type": "markdown",
   "metadata": {},
   "source": [
    "## Visualizando os resultados\n",
    "\n",
    "Aqui vamos obter a saída 00000 com 100% de probabilidade como nossa saída"
   ]
  },
  {
   "cell_type": "code",
   "execution_count": 10,
   "metadata": {},
   "outputs": [
    {
     "data": {
      "image/png": "[encoded data removed]",
      "text/plain": [
       "<Figure size 504x360 with 1 Axes>"
      ]
     },
     "execution_count": 10,
     "metadata": {},
     "output_type": "execute_result"
    }
   ],
   "source": [
    "from qiskit.tools.visualization import plot_histogram\n",
    "plot_histogram(job_exp.result().get_counts(qc))"
   ]
  },
  {
   "cell_type": "markdown",
   "metadata": {},
   "source": [
    "# Fim"
   ]
  }
 ],
 "metadata": {
  "kernelspec": {
   "display_name": "Python 3",
   "language": "python",
   "name": "python3"
  },
  "language_info": {
   "codemirror_mode": {
    "name": "ipython",
    "version": 3
   },
   "file_extension": ".py",
   "mimetype": "text/x-python",
   "name": "python",
   "nbconvert_exporter": "python",
   "pygments_lexer": "ipython3",
   "version": "3.7.3"
  }
 },
 "nbformat": 4,
 "nbformat_minor": 2
}
