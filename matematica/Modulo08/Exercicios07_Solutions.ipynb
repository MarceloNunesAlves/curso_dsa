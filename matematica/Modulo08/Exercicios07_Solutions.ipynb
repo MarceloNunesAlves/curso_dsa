{
 "cells": [
  {
   "cell_type": "markdown",
   "metadata": {},
   "source": [
    "# <font color='blue'>Data Science Academy</font>\n",
    "# <font color='blue'>Matemática Para Machine Learning</font>"
   ]
  },
  {
   "cell_type": "markdown",
   "metadata": {},
   "source": [
    "## Lista de Exercícios  - Capítulo 8"
   ]
  },
  {
   "cell_type": "markdown",
   "metadata": {},
   "source": [
    "O objetivo desta lista de exercícios é você praticar os principais conceitos estudados neste capítulo, ao mesmo tempo que desenvolve suas habilidades em lógica de programação com a linguagem Python. \n",
    "\n",
    "Caso tenha dúvidas, isso é absolutamente normal e faça um trabalho de pesquisa a fim de relembrar o formato das operações matemáticas.\n",
    "\n",
    "Quando encontrar o formato de uma operação que resolva o exercício proposto, use a linguagem Python para representar esta operação. Em essência, é assim que aplicamos Matemática Para Machine Learning, construindo algoritmos e representando esses algoritmos em linguagem de programação."
   ]
  },
  {
   "cell_type": "markdown",
   "metadata": {},
   "source": [
    "Divirta-se!!"
   ]
  },
  {
   "cell_type": "markdown",
   "metadata": {},
   "source": [
    "### Exercício 1 - Usando a função numpy.linalg.eigvals() do Numpy, calcule os autovalores da matriz abaixo."
   ]
  },
  {
   "cell_type": "code",
   "execution_count": 1,
   "metadata": {},
   "outputs": [
    {
     "name": "stdout",
     "output_type": "stream",
     "text": [
      "\n",
      "Autovalores:  [3.41421356 2.         0.58578644]\n"
     ]
    }
   ],
   "source": [
    "# Solução\n",
    "import numpy as np\n",
    "\n",
    "m = np.matrix([[2, -1, 0],\n",
    "               [-1, 2, -1],\n",
    "               [0, -1, 2]])\n",
    "\n",
    "eigenvalues = np.linalg.eigvals(m)\n",
    "print(\"\\nAutovalores: \", eigenvalues)"
   ]
  },
  {
   "cell_type": "markdown",
   "metadata": {},
   "source": [
    "### Exercício 2 - Usando a função numpy.linalg.eig() do Numpy, calcule os autovalores e autovetores da matriz abaixo.\n",
    "\n",
    "Dica: A função numpy.linalg.eig() retorna uma tupla que consiste em um vetor e uma matriz. O vetor (que pode ser representado por \"autova\") contém os autovalores. O array (que pode ser representado por \"autove\") contém os autovetores correspondentes, um autovetor por coluna. Os autovetores são normalizados para que suas normas euclidianas sejam 1.\n",
    "\n",
    "Referência: https://docs.scipy.org/doc/numpy-1.15.1/reference/generated/numpy.linalg.eig.html"
   ]
  },
  {
   "cell_type": "code",
   "execution_count": 2,
   "metadata": {},
   "outputs": [
    {
     "name": "stdout",
     "output_type": "stream",
     "text": [
      "\n",
      "Autovalores:  [ 4.31662479e+00 -2.31662479e+00  1.47314580e-16]\n",
      "\n",
      "Autovetores:  [[ 0.58428153  0.73595785  0.40824829]\n",
      " [ 0.80407569 -0.38198836 -0.81649658]\n",
      " [ 0.10989708 -0.55897311  0.40824829]]\n"
     ]
    }
   ],
   "source": [
    "# Solução\n",
    "import numpy as np\n",
    "from numpy import linalg as LA\n",
    "\n",
    "A = np.array([[1,2,3],[3,2,1],[1,0,-1]])\n",
    "autova, autove = LA.eig(A)\n",
    "\n",
    "print(\"\\nAutovalores: \", autova)\n",
    "print(\"\\nAutovetores: \", autove)"
   ]
  },
  {
   "cell_type": "markdown",
   "metadata": {},
   "source": [
    "### Exercício 3 - Usando as funções oferecidas pelo SymPy, calcule autovalores e autovetores da matriz abaixo."
   ]
  },
  {
   "cell_type": "code",
   "execution_count": 3,
   "metadata": {},
   "outputs": [
    {
     "name": "stdout",
     "output_type": "stream",
     "text": [
      "\n",
      "Autovalores:  {-sqrt(17)/2 - 3/2: 1, -3/2 + sqrt(17)/2: 1}\n",
      "\n",
      "Autovetores:  [(-3/2 + sqrt(17)/2, 1, [Matrix([\n",
      "[-2/(-sqrt(17)/2 + 3/2)],\n",
      "[                     1]])]), (-sqrt(17)/2 - 3/2, 1, [Matrix([\n",
      "[-2/(3/2 + sqrt(17)/2)],\n",
      "[                    1]])])]\n"
     ]
    }
   ],
   "source": [
    "# Solução\n",
    "from sympy import *\n",
    "\n",
    "A = Matrix([[0, 2], [1, -3]])\n",
    "\n",
    "print(\"\\nAutovalores: \", A.eigenvals())   # retorna autovalores e sua multiplicidade algébrica\n",
    "print(\"\\nAutovetores: \", A.eigenvects())  # retorna autovalores, autovetores"
   ]
  },
  {
   "cell_type": "markdown",
   "metadata": {},
   "source": [
    "### Exercício 4 - Com base no exercício anterior, retorne apenas a lista de autovalores."
   ]
  },
  {
   "cell_type": "markdown",
   "metadata": {},
   "source": [
    "A.eigenvals () retorna {-sqrt (17) / 2 - 3/2: 1, -3/2 + sqrt (17) / 2: 1} que é um dicionário de autovalores e suas multiplicidades. Se você não precisa das multiplicidades, use list(A.eigenvals().Keys()) para obter uma lista simples de autovalores.\n",
    "\n",
    "A saída de autovetores é um pouco mais complicada e consiste em triplos (autovalor, multiplicidade desse autovalor, base do autoespaço). Note que a multiplicidade é multiplicidade algébrica, enquanto o número de autovetores retornados é a multiplicidade geométrica, que pode ser menor. Os autovetores são retornados como matrizes de 1 coluna.\n",
    "\n",
    "Para essa matriz, A.eigenvects() retorna o autovetor [-2 / (- sqrt (17) / 2 + 3/2), 1] para o autovalor -3/2 + sqrt (17) / 2, e autovetor [ -2 / (3/2 + sqrt (17) / 2), 1] para eigenvalue -sqrt (17) / 2 - 3/2.\n",
    "\n",
    "Se você quiser os autovetores apresentados como listas simples de coordenadas, usamos list comprehension:\n",
    "\n",
    "[list (tup [2] [0]) fro tup em A.eigenvects ()]\n",
    "\n",
    "que geraria [[-2 / (- sqrt (17) / 2 + 3/2), 1], [-2 / (3/2 + sqrt (17) / 2), 1]]. (Note que apenas escolhe um autovetor para cada autovalor, o que nem sempre é o que você quer)."
   ]
  },
  {
   "cell_type": "code",
   "execution_count": 4,
   "metadata": {},
   "outputs": [
    {
     "name": "stdout",
     "output_type": "stream",
     "text": [
      "\n",
      "Autovalores:  [-sqrt(17)/2 - 3/2, -3/2 + sqrt(17)/2]\n",
      "\n",
      "Autovetores:  [[-2/(-sqrt(17)/2 + 3/2), 1], [-2/(3/2 + sqrt(17)/2), 1]]\n"
     ]
    }
   ],
   "source": [
    "# Solução\n",
    "from sympy import *\n",
    "\n",
    "A = Matrix([[0, 2], [1, -3]])\n",
    "\n",
    "print(\"\\nAutovalores: \", list(A.eigenvals().keys()))   \n",
    "print(\"\\nAutovetores: \", [list(tup[2][0]) for tup in A.eigenvects()])  "
   ]
  },
  {
   "cell_type": "markdown",
   "metadata": {},
   "source": [
    "### Exercício 5 - Calcule o Eigendecomposition da matriz abaixo.\n",
    "\n",
    "Uma eigendecomposition é calculada em uma matriz quadrada usando um algoritmo iterativo eficiente através de funções do NumPy.\n",
    "\n",
    "Frequentemente, um autovalor é encontrado primeiro, então um autovetor é encontrado para resolver a equação como um conjunto de coeficientes.\n",
    "\n",
    "A eigendecomposition pode ser calculada no NumPy usando a função eig(). A eigendecomposition é calculada na matriz retornando os autovalores e autovetores."
   ]
  },
  {
   "cell_type": "code",
   "execution_count": 5,
   "metadata": {},
   "outputs": [
    {
     "name": "stdout",
     "output_type": "stream",
     "text": [
      "[[1 2 3]\n",
      " [4 5 6]\n",
      " [7 8 9]]\n",
      "\n",
      "Autovalores:  [ 1.61168440e+01 -1.11684397e+00 -9.75918483e-16]\n",
      "\n",
      "Autovetores:  [[-0.23197069 -0.78583024  0.40824829]\n",
      " [-0.52532209 -0.08675134 -0.81649658]\n",
      " [-0.8186735   0.61232756  0.40824829]]\n"
     ]
    }
   ],
   "source": [
    "# Solução\n",
    "from numpy import array\n",
    "from numpy.linalg import eig\n",
    "\n",
    "# Define a matriz\n",
    "A = array([[1, 2, 3], [4, 5, 6], [7, 8, 9]])\n",
    "print(A)\n",
    "\n",
    "# Calcula eigendecomposition\n",
    "values, vectors = eig(A)\n",
    "\n",
    "# Print\n",
    "print(\"\\nAutovalores: \", values)\n",
    "print(\"\\nAutovetores: \",vectors)"
   ]
  },
  {
   "cell_type": "markdown",
   "metadata": {},
   "source": [
    "### Exercício 6 - Confirme que um vetor é de fato um autovetor de uma matriz.\n",
    "\n",
    "Fazemos isso multiplicando o autovetor candidato pelo autovetor e comparando o resultado com o autovalor.\n",
    "\n",
    "Primeiro, definiremos uma matriz e calcularemos os autovalores e os autovetores. Vamos então testar se o primeiro vetor e valor são de fato um autovalor e um autovetor para a matriz. Nós sabemos que eles são, mas é um bom exercício.\n",
    "\n",
    "Os autovetores são retornados como uma matriz com as mesmas dimensões que a matriz pai, onde cada coluna é um autovetor, isto é, o primeiro autovetor é o vetor [:, 0]. Os autovalores são retornados como uma lista, onde os índices de valor na matriz retornada são pareados com autovetores pelo índice da coluna, por exemplo. o primeiro autovalor em valores [0] é emparelhado com o primeiro autovetor em vetores [:, 0].\n",
    "\n",
    "O exemplo multiplica a matriz original pelo primeiro autovetor e a compara ao primeiro autovetor multiplicado pelo primeiro autovalor.\n",
    "\n",
    "Executar o exemplo imprime os resultados dessas duas multiplicações que mostram o mesmo vetor resultante, como seria de se esperar."
   ]
  },
  {
   "cell_type": "code",
   "execution_count": 6,
   "metadata": {},
   "outputs": [
    {
     "name": "stdout",
     "output_type": "stream",
     "text": [
      "[ -3.73863537  -8.46653421 -13.19443305]\n",
      "[ -3.73863537  -8.46653421 -13.19443305]\n"
     ]
    }
   ],
   "source": [
    "# Solução\n",
    "from numpy import array\n",
    "from numpy.linalg import eig\n",
    "\n",
    "# Define a matriz\n",
    "A = array([[1, 2, 3], [4, 5, 6], [7, 8, 9]])\n",
    "\n",
    "# Calcula eigendecomposition\n",
    "values, vectors = eig(A)\n",
    "\n",
    "# Confirmando o primeiro eigenvector\n",
    "B = A.dot(vectors[:, 0])\n",
    "print(B)\n",
    "C = vectors[:, 0] * values[0]\n",
    "print(C)"
   ]
  },
  {
   "cell_type": "markdown",
   "metadata": {},
   "source": [
    "### Exercício 7 - Com base nos autovalores e autovetores, reconstrua a matriz original.\n",
    "\n",
    "Podemos inverter o processo e reconstruir a matriz original, recebendo apenas os autovetores e autovalores.\n",
    "\n",
    "Primeiro, a lista de autovetores deve ser convertida em uma matriz, onde cada vetor se torna uma linha. Os autovalores precisam ser organizados em uma matriz diagonal. A função NumPy diag() pode ser usada para isso.\n",
    "\n",
    "Em seguida, precisamos calcular o inverso da matriz do vetor próprio, o que podemos alcançar com a função invPP (NumPy). Finalmente, esses elementos precisam ser multiplicados junto com a função dot().\n",
    "\n",
    "O exemplo calcula os autovalores e os autovetores novamente e os utiliza para reconstruir a matriz original.\n",
    "\n",
    "A execução do exemplo primeiro imprime a matriz original e, em seguida, a matriz reconstruída a partir de autovalores e autovetores correspondentes à matriz original."
   ]
  },
  {
   "cell_type": "code",
   "execution_count": 7,
   "metadata": {},
   "outputs": [
    {
     "name": "stdout",
     "output_type": "stream",
     "text": [
      "\n",
      "Matriz Original:\n",
      " [[1 2 3]\n",
      " [4 5 6]\n",
      " [7 8 9]]\n",
      "\n",
      "Matriz Original Reconstruída:\n",
      " [[1. 2. 3.]\n",
      " [4. 5. 6.]\n",
      " [7. 8. 9.]]\n"
     ]
    }
   ],
   "source": [
    "# Solução\n",
    "\n",
    "from numpy import diag\n",
    "from numpy import dot\n",
    "from numpy.linalg import inv\n",
    "from numpy import array\n",
    "from numpy.linalg import eig\n",
    "\n",
    "# Define a Matriz\n",
    "A = array([[1, 2, 3], [4, 5, 6], [7, 8, 9]])\n",
    "print(\"\\nMatriz Original:\\n\", A)\n",
    "\n",
    "# Calcula autovalofes e autovetores\n",
    "values, vectors = eig(A)\n",
    "\n",
    "# Cria a matriz de autovetores\n",
    "Q = vectors\n",
    "\n",
    "# Cria a inversa da matriz de autovetores\n",
    "R = inv(Q)\n",
    "\n",
    "# Cria a matriz diagonal dos autovalores\n",
    "L = diag(values)\n",
    "\n",
    "# Reconstrói a matriz original\n",
    "B = Q.dot(L).dot(R)\n",
    "print(\"\\nMatriz Original Reconstruída:\\n\", B)"
   ]
  },
  {
   "cell_type": "markdown",
   "metadata": {},
   "source": [
    "### Exercício 8 - Você encontra abaixo o link de um repositório no Github para uma app em Python de uma Calculadora de Álgebra Linear, que apresenta via web a possibilidade de fazer muitos dos cálculos que estudamos até aqui no curso. Todo o código está em Python sendo uma excelente fonte de material de referência de estudo.\n",
    "\n",
    "Faça o download do repositório para sua máquina e estude os códigos apresentados.\n",
    "\n",
    "https://github.com/subram43/linear-algebra-calculator"
   ]
  },
  {
   "cell_type": "markdown",
   "metadata": {},
   "source": [
    "## Fim"
   ]
  }
 ],
 "metadata": {
  "kernelspec": {
   "display_name": "Python 3",
   "language": "python",
   "name": "python3"
  },
  "language_info": {
   "codemirror_mode": {
    "name": "ipython",
    "version": 3
   },
   "file_extension": ".py",
   "mimetype": "text/x-python",
   "name": "python",
   "nbconvert_exporter": "python",
   "pygments_lexer": "ipython3",
   "version": "3.8.5"
  }
 },
 "nbformat": 4,
 "nbformat_minor": 2
}
