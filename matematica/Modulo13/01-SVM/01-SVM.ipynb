{
 "cells": [
  {
   "cell_type": "markdown",
   "metadata": {},
   "source": [
    "# <font color='blue'>Data Science Academy</font>\n",
    "# <font color='blue'>Matemática Para Machine Learning</font>"
   ]
  },
  {
   "cell_type": "markdown",
   "metadata": {},
   "source": [
    "## Implementação do Algoritmo Support Vector Machine (Classificação) em Python"
   ]
  },
  {
   "cell_type": "markdown",
   "metadata": {},
   "source": [
    "Papers do Algoritmo SVM:\n",
    "    \n",
    "http://cs229.stanford.edu/notes/cs229-notes3.pdf\n",
    "\n",
    "https://pdfs.semanticscholar.org/b944/a74a79c701d6c2a0ff2d28a0d16b9d8b1cd0.pdf\n",
    "\n",
    "Outros Papers:\n",
    "\n",
    "https://paperswithcode.com"
   ]
  },
  {
   "cell_type": "code",
   "execution_count": 1,
   "metadata": {},
   "outputs": [],
   "source": [
    "import numpy as np\n",
    "from matplotlib import pyplot as plt\n",
    "import warnings\n",
    "import matplotlib.cbook\n",
    "warnings.filterwarnings(\"ignore\",category=matplotlib.cbook.mplDeprecation)\n",
    "%matplotlib inline"
   ]
  },
  {
   "cell_type": "markdown",
   "metadata": {},
   "source": [
    "## Definindo os Cálculos Matemáticos"
   ]
  },
  {
   "cell_type": "markdown",
   "metadata": {},
   "source": [
    "### Stochastic Gradient Descent\n",
    "\n",
    "O SVM aprenderá usando o algoritmo de descida de gradiente estocástico (SGD). O Gradient Descent minimiza uma função seguindo os gradientes da função de custo."
   ]
  },
  {
   "cell_type": "markdown",
   "metadata": {},
   "source": [
    "### Calculando o Erro\n",
    "\n",
    "Para calcular o erro de uma previsão, primeiro precisamos definir a função objetiva do SVM."
   ]
  },
  {
   "cell_type": "markdown",
   "metadata": {},
   "source": [
    "#### Hinge Loss Function\n",
    "\n",
    "Para fazer isso, precisamos definir a função de perda, para calcular o erro de previsão. Nós usaremos a Hinge Loss para nosso exemplo:\n",
    "\n",
    "$$c(x, y, f(x)) = (1 - y * f(x))_+$$"
   ]
  },
  {
   "cell_type": "markdown",
   "metadata": {},
   "source": [
    "$c$ é a função de perda, $x$ a amostra, $y$ é o verdadeiro rótulo, $f(x)$ o rótulo previsto.\n",
    "\n",
    "Isso significa o seguinte:\n",
    "$$\n",
    "c(x, y, f(x))= \n",
    "\\begin{cases}\n",
    "    0,& \\text{if } y*f(x)\\geq 1\\\\\n",
    "    1-y*f(x),              & \\text{else}\n",
    "\\end{cases}\n",
    "$$"
   ]
  },
  {
   "cell_type": "markdown",
   "metadata": {},
   "source": [
    "Então, considere, se y e f(x) são valores com sinais $(+1,-1)$:\n",
    "\n",
    "<ul>\n",
    "    <li>a perda é 0, se $y*f(x)$ são positivos, respectivamente os dois valores têm o mesmo sinal.</li>\n",
    "    <li>a perda é $1-y*f(x)$ se $y*f(x)$ é negativo</li>\n",
    "</ul>"
   ]
  },
  {
   "cell_type": "markdown",
   "metadata": {},
   "source": [
    "#### Função Objetivo\n",
    "\n",
    "Como definimos a função de perda, podemos agora definir a função objetivo para o SVM:"
   ]
  },
  {
   "cell_type": "markdown",
   "metadata": {},
   "source": [
    "$$\\underset{w}{min}\\ \\lambda\\parallel w\\parallel^2 + \\ \\sum_{i=1}^n\\big(1-y_i \\langle x_i,w \\rangle\\big)_+$$"
   ]
  },
  {
   "cell_type": "markdown",
   "metadata": {},
   "source": [
    "Como você pode ver, nosso objetivo de um SVM consiste em dois termos. O primeiro termo é um regularizador, o segundo termo a perda. O regularizador equilibra entre a maximização e a perda de margem. \n",
    "\n",
    "#### Derivando a função objetiva\n",
    "\n",
    "Para minimizar essa função, precisamos dos gradientes da função.\n",
    "\n",
    "Como temos dois termos, vamos conduzi-los separadamente usando a regra da soma na diferenciação.\n",
    "\n",
    "$$\n",
    "\\frac{\\delta}{\\delta w_k} \\lambda\\parallel w\\parallel^2 \\ = 2 \\lambda w_k\n",
    "$$\n",
    "\n",
    "$$\n",
    "\\frac{\\delta}{\\delta w_k} \\big(1-y_i \\langle x_i,w \\rangle\\big)_+ \\ = \\begin{cases}\n",
    "    0,& \\text{if } y_i \\langle x_i,w \\rangle\\geq 1\\\\\n",
    "    -y_ix_{ik},              & \\text{então}\n",
    "\\end{cases}\n",
    "$$"
   ]
  },
  {
   "cell_type": "markdown",
   "metadata": {},
   "source": [
    "Isso significa que, se tivermos uma amostra classificada incorretamente $x_i$, respectivamente $y_i \\langle x_i,w \\rangle \\ < \\ 1$, nós atualizamos o vetor de peso w usando os gradientes de ambos os termos, se $y_i \\langle x_i,w \\rangle \\geq 1$ nós apenas atualizamos w pelo gradiente do regularizador. Para resumir, a nossa descida de gradiente estocástica para o SVM parece com isso:"
   ]
  },
  {
   "cell_type": "markdown",
   "metadata": {},
   "source": [
    "if $y_i⟨x_i,w⟩ < 1$:\n",
    "$$\n",
    "w = w + \\eta (y_ix_i - 2\\lambda w)\n",
    "$$\n",
    "então:\n",
    "$$\n",
    "w = w + \\eta (-2\\lambda w)\n",
    "$$"
   ]
  },
  {
   "cell_type": "markdown",
   "metadata": {},
   "source": [
    "## Dataset\n",
    "\n",
    "Primeiro, precisamos definir um conjunto de dados rotulados. "
   ]
  },
  {
   "cell_type": "code",
   "execution_count": 2,
   "metadata": {},
   "outputs": [],
   "source": [
    "# Definindo os dados\n",
    "\n",
    "X = np.array([\n",
    "    [-2, 4],\n",
    "    [4, 1],\n",
    "    [1, 6],\n",
    "    [2, 4],\n",
    "    [6, 2]\n",
    "])\n",
    "\n",
    "y = np.array([-1,-1,1,1,1])"
   ]
  },
  {
   "cell_type": "markdown",
   "metadata": {},
   "source": [
    "Para simplificar, incluímos o termo de polarização (bias) no conjunto de dados:"
   ]
  },
  {
   "cell_type": "code",
   "execution_count": 3,
   "metadata": {},
   "outputs": [],
   "source": [
    "# Definindo os dados, mais o bias\n",
    "\n",
    "X = np.array([\n",
    "    [-2,4,-1],\n",
    "    [4,1,-1],\n",
    "    [1, 6, -1],\n",
    "    [2, 4, -1],\n",
    "    [6, 2, -1],\n",
    "\n",
    "])\n",
    "\n",
    "y = np.array([-1,-1,1,1,1])"
   ]
  },
  {
   "cell_type": "code",
   "execution_count": 4,
   "metadata": {},
   "outputs": [
    {
     "name": "stdout",
     "output_type": "stream",
     "text": [
      "[[-2  4 -1]\n",
      " [ 4  1 -1]\n",
      " [ 1  6 -1]\n",
      " [ 2  4 -1]\n",
      " [ 6  2 -1]]\n"
     ]
    }
   ],
   "source": [
    "print(X)"
   ]
  },
  {
   "cell_type": "code",
   "execution_count": 5,
   "metadata": {},
   "outputs": [
    {
     "name": "stdout",
     "output_type": "stream",
     "text": [
      "[-1 -1  1  1  1]\n"
     ]
    }
   ],
   "source": [
    "print(y)"
   ]
  },
  {
   "cell_type": "markdown",
   "metadata": {},
   "source": [
    "Esse pequeno conjunto de dados contém duas amostras rotuladas com $-1$ e três amostras rotuladas com $+1$. Isso significa que temos um problema de classificação binária, pois o conjunto de dados contém duas classes de amostra. Vamos plotar o conjunto de dados:"
   ]
  },
  {
   "cell_type": "code",
   "execution_count": 6,
   "metadata": {},
   "outputs": [
    {
     "data": {
      "text/plain": [
       "[<matplotlib.lines.Line2D at 0x1130a3588>]"
      ]
     },
     "execution_count": 6,
     "metadata": {},
     "output_type": "execute_result"
    },
    {
     "data": {
      "image/png": "[encoded data removed]",
      "text/plain": [
       "<Figure size 432x288 with 1 Axes>"
      ]
     },
     "metadata": {
      "needs_background": "light"
     },
     "output_type": "display_data"
    }
   ],
   "source": [
    "for d, sample in enumerate(X):\n",
    "    # Plot das amostras negativas\n",
    "    if d < 2:\n",
    "        plt.scatter(sample[0], sample[1], s=120, marker='_', linewidths=2)\n",
    "    # Plot das amostras positivas\n",
    "    else:\n",
    "        plt.scatter(sample[0], sample[1], s=120, marker='+', linewidths=2)\n",
    "\n",
    "# Imprimir um hiperplano possível, isto é, separando as duas classes.\n",
    "plt.plot([-2,6],[6,0.5])"
   ]
  },
  {
   "cell_type": "markdown",
   "metadata": {},
   "source": [
    "## Vamos começar a implementar a descida de gradiente estocástica\n",
    "\n",
    "Finalmente, podemos codificar nosso algoritmo SGD usando nossas regras de atualização e usando um regularizador em nosso algoritmo. Como temos um pequeno conjunto de dados, que é facilmente linearmente separável, isso na verdade não é necessário e nosso algoritmo SGD provavelmente convergiria mais rápido sem ele. Mas vamos manter aqui a título de compreensão do que estamos fazendo.\n",
    "\n",
    "Para simplificar, vamos linearmente percorrer o conjunto de amostras. Para conjuntos de dados maiores, faz sentido selecionar aleatoriamente uma amostra durante cada iteração no loop for."
   ]
  },
  {
   "cell_type": "code",
   "execution_count": 7,
   "metadata": {},
   "outputs": [],
   "source": [
    "def svm_sgd(X, Y):\n",
    "    w = np.zeros(len(X[0]))\n",
    "    eta = 1\n",
    "    epochs = 100000\n",
    "\n",
    "    for epoch in range(1,n):\n",
    "        for i, x in enumerate(X):\n",
    "            if (Y[i] * np.dot(X[i], w)) < 1:\n",
    "                w = w + eta * ( (X[i] * Y[i]) + (-2  *(1/epoch)* w) )\n",
    "            else:\n",
    "                w = w + eta * (-2  *(1/epoch)* w)\n",
    "\n",
    "    return w"
   ]
  },
  {
   "cell_type": "markdown",
   "metadata": {},
   "source": [
    "Vamos executar o SGD $100000$ vezes. Nosso parâmetro de aprendizado eta está definido como $1$. Como parâmetro de regularização, escolhemos $1/t$, então esse parâmetro diminuirá à medida que o número de épocas aumentar."
   ]
  },
  {
   "cell_type": "markdown",
   "metadata": {},
   "source": [
    "#### Descrição Linha por Linha da célula com a função svm_sgd()\n",
    "\n",
    "Linha <b>2</b>: Inicializa o vetor de pesos com zeros<br>\n",
    "Linha <b>3</b>: Define a taxa de aprendizado para 1<br>\n",
    "Linha <b>4</b>: Define o número de épocas<br>\n",
    "Linha <b>6</b>: Itera n vezes em todo o conjunto de dados. O Iterador começa com $1$ para evitar divisão por zero durante o cálculo do parâmetro de regularização<br>\n",
    "Linha <b>7</b>: Itera sobre cada amostra no conjunto de dados.<br>\n",
    "Linha <b>8</b>: Condição de classificação incorreta $y_i \\langle x_i,w \\rangle < 1$<br>\n",
    "Linha <b>9</b>: Regra de atualização para os pesos $w = w + \\eta (y_ix_i - 2\\lambda w)$ incluindo a taxa de aprendizado $\\eta$ e o regularizador $\\lambda$<br>\n",
    "line <b>11</b>: Se classificado corretamente basta atualizar o vetor de peso pelo termo regularizador derivado $w = w + \\eta (-2\\lambda w)$.<br>"
   ]
  },
  {
   "cell_type": "markdown",
   "metadata": {},
   "source": [
    "### Deixe o SVM aprender!\n",
    "\n",
    "Em seguida, podemos executar nosso código para calcular o vetor de peso adequado, que ajusta os dados de treinamento. Se houver amostras erroneamente classificadas, imprimiremos o número de amostras classificadas incorretamente e classificadas corretamente."
   ]
  },
  {
   "cell_type": "code",
   "execution_count": 8,
   "metadata": {},
   "outputs": [
    {
     "name": "stdout",
     "output_type": "stream",
     "text": [
      "[ 1.58876117  3.17458055 11.11863105]\n"
     ]
    }
   ],
   "source": [
    "def svm_sgd(X, Y):\n",
    "\n",
    "    w = np.zeros(len(X[0]))\n",
    "    eta = 1\n",
    "    epochs = 100000\n",
    "\n",
    "\n",
    "    for epoch in range(1,epochs):\n",
    "        for i, x in enumerate(X):\n",
    "            if (Y[i]*np.dot(X[i], w)) < 1:\n",
    "                w = w + eta * ( (X[i] * Y[i]) + (-2  *(1/epoch)* w) )\n",
    "            else:\n",
    "                w = w + eta * (-2  *(1/epoch)* w)\n",
    "\n",
    "    return w\n",
    "\n",
    "w = svm_sgd(X,y)\n",
    "print(w)"
   ]
  },
  {
   "cell_type": "code",
   "execution_count": 9,
   "metadata": {},
   "outputs": [],
   "source": [
    "def svm_sgd_plot(X, Y):\n",
    "\n",
    "    w = np.zeros(len(X[0]))\n",
    "    eta = 1\n",
    "    epochs = 100000\n",
    "    errors = []\n",
    "\n",
    "\n",
    "    for epoch in range(1,epochs):\n",
    "        error = 0\n",
    "        for i, x in enumerate(X):\n",
    "            if (Y[i]*np.dot(X[i], w)) < 1:\n",
    "                w = w + eta * ( (X[i] * Y[i]) + (-2  *(1/epoch)* w) )\n",
    "                error = 1\n",
    "            else:\n",
    "                w = w + eta * (-2  *(1/epoch)* w)\n",
    "        errors.append(error)\n",
    "\n",
    "    plt.plot(errors, '|')\n",
    "    plt.ylim(0.5,1.5)\n",
    "    plt.axes().set_yticklabels([])\n",
    "    plt.xlabel('Época')\n",
    "    plt.ylabel('Classificações Incorretas')\n",
    "    plt.show()"
   ]
  },
  {
   "cell_type": "code",
   "execution_count": 10,
   "metadata": {},
   "outputs": [
    {
     "data": {
      "image/png": "[encoded data removed]",
      "text/plain": [
       "<Figure size 432x288 with 1 Axes>"
      ]
     },
     "metadata": {
      "needs_background": "light"
     },
     "output_type": "display_data"
    }
   ],
   "source": [
    "svm_sgd_plot(X,y)"
   ]
  },
  {
   "cell_type": "markdown",
   "metadata": {},
   "source": [
    "O gráfico acima mostra que o SVM tem menos erros de classificação quanto mais épocas estiver executando. O SVM sempre tentou maximizar a margem entre as duas classes usando nosso regularizador.\n",
    "\n",
    "Nosso SVM sempre tenta otimizar o hiperplano, maximizando a distância entre as duas classes."
   ]
  },
  {
   "cell_type": "markdown",
   "metadata": {},
   "source": [
    "O vetor de peso do SVM, incluindo o termo de polarização (bias) após 100.000 épocas, é $(1.59,  3.17,  11.12)$.<br>\n",
    "Podemos extrair a seguinte função de previsão agora:\n",
    "\n",
    "\n",
    "$$\n",
    "f(x) = \\langle x,(1.59,3.17)\\rangle - 11.12\n",
    "$$\n",
    "\n",
    "O vetor de peso é $(1.59,3.17)$ e o termo de bias é a terceira entrada 11.12."
   ]
  },
  {
   "cell_type": "code",
   "execution_count": 11,
   "metadata": {},
   "outputs": [],
   "source": [
    "# Definindo os dados, mais o bias\n",
    "\n",
    "X = np.array([\n",
    "    [-2,4,-1],\n",
    "    [4,1,-1],\n",
    "    [1, 6, -1],\n",
    "    [2, 4, -1],\n",
    "    [6, 2, -1],\n",
    "\n",
    "])\n",
    "\n",
    "y = np.array([-1,-1,1,1,1])"
   ]
  },
  {
   "cell_type": "markdown",
   "metadata": {},
   "source": [
    "## Avaliação\n",
    "\n",
    "Vamos classificar as amostras em nosso conjunto de dados manualmente para verificar se o algoritmo aprendeu corretamente:\n",
    "\n",
    "Primeira amostra $(-2, 4)$, deveria ser negativo:\n",
    "\n",
    "$$-2*1,59+4*3,17 - 11,12 = sign(-1,56) = -1$$\n",
    "\n",
    "Segunda amostra $(4, 1)$, deveria ser negativo:\n",
    "\n",
    "$$4*1,59+1*3,17 - 11,12 = sign(-1,71) = -1$$\n",
    "\n",
    "Terceira amostra $(1, 6)$, deveria ser positivo:\n",
    "\n",
    "$$1*1,59+6*3,17-11,12 = sign(9,46) = +1$$\n",
    "\n",
    "Quarta amostra $(2, 4)$, deveria ser positivo:\n",
    "\n",
    "$$2*1,59+4*3,17 - 11,12 = sign(4,68) = +1$$\n",
    "\n",
    "Quinta amostra $(6, 2)$, deveria ser positivo:\n",
    "\n",
    "$$6*1,59+2*3,17 - 11,12 = sign(4,58) = +1$$\n",
    "\n",
    "Vamos definir duas amostras de teste agora, para verificar o quão bem nosso modelo se generaliza para dados não vistos:\n",
    "\n",
    "Primeira amostra de teste $(2, 2)$, deveria ser negativo:\n",
    "\n",
    "$$2*1,59+2*3,17 - 11,12 = sign(-1,66) = -1$$\n",
    "\n",
    "Segunda amostra de teste $(4, 3)$, deveria ser positivo:\n",
    "\n",
    "$$4*1,59+3*3,17 - 11,12 = sign(4,63) = +1$$\n",
    "\n",
    "Ambas as amostras são classificadas como certas. Para verificar isso geometricamente, vamos plotar as amostras, incluindo amostras de teste e o hiperplano."
   ]
  },
  {
   "cell_type": "code",
   "execution_count": 12,
   "metadata": {},
   "outputs": [
    {
     "data": {
      "text/plain": [
       "<matplotlib.quiver.Quiver at 0x1138ad320>"
      ]
     },
     "execution_count": 12,
     "metadata": {},
     "output_type": "execute_result"
    },
    {
     "data": {
      "image/png": "[encoded data removed]",
      "text/plain": [
       "<Figure size 432x288 with 1 Axes>"
      ]
     },
     "metadata": {
      "needs_background": "light"
     },
     "output_type": "display_data"
    }
   ],
   "source": [
    "for d, sample in enumerate(X):\n",
    "    if d < 2:\n",
    "        plt.scatter(sample[0], sample[1], s=120, marker='_', linewidths=2)\n",
    "    else:\n",
    "        plt.scatter(sample[0], sample[1], s=120, marker='+', linewidths=2)\n",
    "\n",
    "# Adiciona nossas amostras de teste\n",
    "plt.scatter(2,2, s=120, marker='_', linewidths=2, color='yellow')\n",
    "plt.scatter(4,3, s=120, marker='+', linewidths=2, color='blue')\n",
    "\n",
    "# Imprime o hiperplano calculado por svm_sgd()\n",
    "x2=[w[0],w[1],-w[1],w[0]]\n",
    "x3=[w[0],w[1],w[1],-w[0]]\n",
    "\n",
    "x2x3 =np.array([x2,x3])\n",
    "X,Y,U,V = zip(*x2x3)\n",
    "ax = plt.gca()\n",
    "ax.quiver(X,Y,U,V,scale=1, color='blue')"
   ]
  },
  {
   "cell_type": "markdown",
   "metadata": {},
   "source": [
    "# Fim"
   ]
  }
 ],
 "metadata": {
  "kernelspec": {
   "display_name": "Python 3",
   "language": "python",
   "name": "python3"
  },
  "language_info": {
   "codemirror_mode": {
    "name": "ipython",
    "version": 3
   },
   "file_extension": ".py",
   "mimetype": "text/x-python",
   "name": "python",
   "nbconvert_exporter": "python",
   "pygments_lexer": "ipython3",
   "version": "3.7.3"
  }
 },
 "nbformat": 4,
 "nbformat_minor": 2
}
