{
 "cells": [
  {
   "cell_type": "markdown",
   "metadata": {},
   "source": [
    "# <font color='blue'>Data Science Academy</font>\n",
    "# <font color='blue'>Matemática Para Machine Learning</font>"
   ]
  },
  {
   "cell_type": "markdown",
   "metadata": {},
   "source": [
    "## Regressão Linear e Descida do Gradiente em Python"
   ]
  },
  {
   "cell_type": "markdown",
   "metadata": {},
   "source": [
    "### Definição do Problema\n",
    "\n",
    "Uma fábrica de alimentos possui diversas máquinas que ficam em operação um determinado número de horas por semana. Cada máquina recebe manutenção preventiva a cada intervalo de tempo determinado em dias. O dataset anexo mostra esta relação entre horas de operação por semana e dias de intervalo entre as manutencões preventivas nos 3 últimos anos.\n",
    "\n",
    "Vamos criar um modelo que seja capaz de prever o intervalo de manutenção necessário dado o número de horas de operação por semana!"
   ]
  },
  {
   "cell_type": "markdown",
   "metadata": {},
   "source": [
    "## Regressão linear\n",
    "\n",
    "**A Regressão Linear** nos ajuda a descobrir relações lineares em um conjunto de dados, ou seja, descobre uma linha que melhor se adapta aos dados. \n",
    "\n",
    "A equação padrão para uma linha em um Plano Cartesiano XY é dada por $ y = a + bx $ onde **o coeficiente b** é a inclinação da linha (Slope) e **o coeficente a** é a interceptação no eixo y (intercept).\n",
    "\n",
    "Para encontrar a melhor linha que se ajusta aos nossos dados, precisamos **otimizar** os valores de a e b e para isso usaremos o algorimo de descida do gradiente."
   ]
  },
  {
   "cell_type": "markdown",
   "metadata": {},
   "source": [
    "## Descida do Gradiente\n",
    "\n",
    "**Gradient Descent** é um algoritmo que ajuda a minimizar uma função, ou seja, encontra o valor mínimo de uma função, o valor em mínimos locais.\n",
    "\n",
    "No início, o algoritmo de descida do gradiente recebe um conjunto inicial de parâmetros para uma função específica definida por alguns parâmetros definidos. Em seguida, **iterativamente** avança em direção a um conjunto de valores de parâmetros que minimizam a função. **A minimização iterativa** é obtida usando o cálculo, realizando etapas na direção **negativa** do gradiente da função."
   ]
  },
  {
   "cell_type": "markdown",
   "metadata": {},
   "source": [
    "## Carregando os Dados"
   ]
  },
  {
   "cell_type": "code",
   "execution_count": 1,
   "metadata": {},
   "outputs": [
    {
     "name": "stdout",
     "output_type": "stream",
     "text": [
      "Populating the interactive namespace from numpy and matplotlib\n"
     ]
    }
   ],
   "source": [
    "%pylab inline\n",
    "from mpl_toolkits.mplot3d import axes3d"
   ]
  },
  {
   "cell_type": "code",
   "execution_count": 2,
   "metadata": {},
   "outputs": [],
   "source": [
    "# Função para ler e carregar os dados\n",
    "def carrega_dados():\n",
    "    data_file = open(\"data/dataset1.txt\", \"r\")\n",
    "    raw_data = data_file.readlines()\n",
    "    data_file.close()\n",
    "    return [line.strip().split(\"  \") for line in raw_data]"
   ]
  },
  {
   "cell_type": "code",
   "execution_count": 3,
   "metadata": {},
   "outputs": [
    {
     "name": "stdout",
     "output_type": "stream",
     "text": [
      "Número de Linhas no Dataset: 1000\n"
     ]
    }
   ],
   "source": [
    "# Armazena os dados\n",
    "dataset = carrega_dados()\n",
    "print(\"Número de Linhas no Dataset: {}\".format(len(dataset)))"
   ]
  },
  {
   "cell_type": "code",
   "execution_count": 4,
   "metadata": {},
   "outputs": [
    {
     "name": "stdout",
     "output_type": "stream",
     "text": [
      "[['21.20', '152.00'], ['27.80', '190.10'], ['25.60', '175.28'], ['25.20', '177.46'], ['23.04', '176.46'], ['24.81', '165.74'], ['24.26', '170.76'], ['23.94', '171.38'], ['25.63', '180.09'], ['24.21', '173.05'], ['23.88', '166.27'], ['25.17', '175.72'], ['23.90', '174.13'], ['24.92', '169.67'], ['24.64', '170.12'], ['24.81', '176.43'], ['24.61', '173.32'], ['25.96', '178.64'], ['24.87', '173.58'], ['21.57', '164.06'], ['25.84', '174.90'], ['25.77', '184.99'], ['24.05', '173.02'], ['26.02', '179.73'], ['24.03', '170.90'], ['24.15', '177.31'], ['27.30', '175.39'], ['23.90', '170.48'], ['23.80', '173.02'], ['25.60', '176.33'], ['24.71', '175.15'], ['23.80', '175.03'], ['23.38', '172.66'], ['24.02', '177.24'], ['24.48', '172.96'], ['25.32', '175.91'], ['24.37', '176.33'], ['25.07', '181.89'], ['23.76', '172.61'], ['25.93', '177.84'], ['24.22', '174.74'], ['23.45', '166.55'], ['24.79', '172.80'], ['24.15', '176.01'], ['24.14', '171.22'], ['26.94', '184.00'], ['24.51', '172.75'], ['23.98', '171.15'], ['23.82', '174.03'], ['26.06', '173.24'], ['26.48', '179.51'], ['25.35', '175.41'], ['25.16', '177.76'], ['26.68', '184.95'], ['25.04', '179.39'], ['23.88', '170.77'], ['24.72', '174.12'], ['24.60', '170.00'], ['23.83', '170.39'], ['23.46', '168.79'], ['24.02', '176.11'], ['25.79', '173.85'], ['22.80', '170.58'], ['24.87', '174.51'], ['25.13', '172.50'], ['26.02', '176.02'], ['25.85', '174.03'], ['24.95', '171.72'], ['24.83', '174.59'], ['24.31', '165.42'], ['24.18', '172.95'], ['25.29', '177.94'], ['25.66', '173.30'], ['24.43', '178.48'], ['25.44', '179.45'], ['24.89', '174.05'], ['25.17', '175.78'], ['23.55', '167.99'], ['25.54', '173.22'], ['23.59', '164.77'], ['24.89', '176.27'], ['25.50', '174.38'], ['25.94', '174.11'], ['26.40', '182.04'], ['23.98', '173.49'], ['26.53', '175.39'], ['25.51', '175.00'], ['22.67', '169.35'], ['24.87', '168.58'], ['25.14', '175.50'], ['24.11', '170.73'], ['25.40', '175.16'], ['24.76', '170.02'], ['24.80', '172.59'], ['25.02', '178.71'], ['23.89', '168.13'], ['24.95', '168.85'], ['26.00', '174.61'], ['26.21', '172.05'], ['25.65', '171.59'], ['23.47', '170.67'], ['24.01', '174.05'], ['24.10', '168.16'], ['23.93', '171.34'], ['25.47', '173.67'], ['23.47', '172.79'], ['25.84', '178.22'], ['24.03', '176.39'], ['25.10', '170.82'], ['26.08', '176.13'], ['24.10', '170.80'], ['23.36', '179.51'], ['22.96', '178.69'], ['24.86', '172.64'], ['23.89', '171.34'], ['25.73', '179.29'], ['23.62', '168.16'], ['25.12', '179.77'], ['22.17', '167.49'], ['25.57', '173.95'], ['25.40', '170.12'], ['26.57', '183.99'], ['25.16', '171.30'], ['24.48', '170.43'], ['26.00', '174.15'], ['24.46', '173.12'], ['24.26', '176.12'], ['24.14', '175.66'], ['24.75', '168.16'], ['23.48', '177.78'], ['25.21', '177.43'], ['25.26', '175.26'], ['24.02', '173.51'], ['24.35', '179.33'], ['23.37', '179.09'], ['23.39', '174.99'], ['23.76', '165.70'], ['25.98', '177.62'], ['23.44', '171.45'], ['22.25', '165.92'], ['24.96', '174.51'], ['23.72', '167.99'], ['26.61', '185.55'], ['24.28', '165.74'], ['27.26', '175.19'], ['25.30', '172.12'], ['24.51', '178.90'], ['25.77', '171.23'], ['22.83', '170.83'], ['25.99', '177.17'], ['27.18', '182.28'], ['22.12', '166.69'], ['24.91', '168.37'], ['25.48', '180.18'], ['25.61', '178.21'], ['23.90', '171.74'], ['22.33', '162.60'], ['24.41', '169.02'], ['26.20', '178.83'], ['23.51', '172.64'], ['25.34', '174.33'], ['23.65', '166.29'], ['26.19', '174.28'], ['24.87', '173.07'], ['24.92', '176.90'], ['24.36', '168.84'], ['26.32', '177.34'], ['25.30', '176.51'], ['25.33', '174.97'], ['24.94', '171.08'], ['25.70', '172.24'], ['25.11', '175.92'], ['24.38', '173.55'], ['23.71', '170.41'], ['24.74', '174.45'], ['24.97', '175.58'], ['24.31', '172.89'], ['23.88', '168.05'], ['26.06', '175.81'], ['22.72', '171.08'], ['24.22', '173.61'], ['25.31', '176.16'], ['22.71', '165.24'], ['25.93', '177.57'], ['24.09', '173.53'], ['24.08', '171.78'], ['24.04', '174.44'], ['24.64', '179.34'], ['24.30', '168.32'], ['26.33', '177.95'], ['24.84', '177.78'], ['24.48', '173.88'], ['24.38', '166.72'], ['25.30', '179.20'], ['24.81', '172.81'], ['24.69', '180.83'], ['23.41', '170.25'], ['23.80', '168.19'], ['25.29', '173.45'], ['24.38', '173.87'], ['25.45', '177.33'], ['25.41', '176.79'], ['24.37', '172.59'], ['23.45', '171.41'], ['24.54', '174.65'], ['25.29', '178.29'], ['25.56', '179.14'], ['25.80', '175.71'], ['24.36', '170.13'], ['24.95', '177.01'], ['24.18', '171.04'], ['25.05', '174.09'], ['25.96', '178.08'], ['24.46', '177.42'], ['24.53', '172.66'], ['22.71', '170.54'], ['23.67', '173.17'], ['25.64', '178.17'], ['23.87', '170.65'], ['24.86', '171.12'], ['24.30', '172.45'], ['24.92', '176.48'], ['24.40', '170.85'], ['23.87', '169.51'], ['24.23', '169.59'], ['26.48', '173.60'], ['26.16', '177.03'], ['23.82', '169.34'], ['24.41', '166.27'], ['22.82', '169.66'], ['25.10', '178.43'], ['22.73', '171.53'], ['25.93', '176.72'], ['25.36', '175.02'], ['25.93', '179.63'], ['25.41', '172.30'], ['23.00', '166.90'], ['24.36', '180.58'], ['23.62', '172.62'], ['23.08', '174.85'], ['26.09', '180.58'], ['25.28', '174.37'], ['24.54', '171.12'], ['23.54', '172.83'], ['25.94', '179.14'], ['23.47', '167.38'], ['26.68', '184.62'], ['24.75', '177.76'], ['24.85', '176.56'], ['26.23', '178.34'], ['24.98', '171.19'], ['24.91', '181.61'], ['23.46', '168.74'], ['22.87', '166.58'], ['23.40', '173.01'], ['23.76', '171.17'], ['23.30', '172.89'], ['24.69', '169.23'], ['22.81', '169.43'], ['23.72', '172.62'], ['25.53', '177.15'], ['25.40', '174.13'], ['24.33', '175.22'], ['26.00', '185.02'], ['24.72', '173.19'], ['24.09', '176.76'], ['24.71', '175.20'], ['24.41', '177.80'], ['23.03', '163.22'], ['24.34', '176.01'], ['23.10', '176.69'], ['24.73', '175.94'], ['24.12', '171.28'], ['25.86', '171.70'], ['25.83', '179.97'], ['24.48', '166.54'], ['23.10', '172.45'], ['26.23', '172.29'], ['26.82', '182.98'], ['25.07', '172.87'], ['25.14', '168.90'], ['25.13', '177.73'], ['23.59', '168.57'], ['23.58', '177.76'], ['26.35', '177.97'], ['25.97', '180.24'], ['24.66', '169.87'], ['22.52', '171.94'], ['26.85', '177.53'], ['26.07', '181.09'], ['22.97', '168.92'], ['24.61', '173.85'], ['24.05', '169.66'], ['23.62', '170.34'], ['23.76', '170.34'], ['25.84', '177.97'], ['25.94', '179.36'], ['24.78', '176.47'], ['22.35', '167.83'], ['26.99', '179.43'], ['25.37', '173.95'], ['26.87', '181.25'], ['23.76', '170.02'], ['25.67', '171.82'], ['25.30', '179.91'], ['24.05', '169.18'], ['26.57', '173.18'], ['25.44', '182.23'], ['24.91', '177.61'], ['25.00', '174.63'], ['26.07', '172.58'], ['23.62', '171.61'], ['25.06', '174.60'], ['24.94', '176.13'], ['24.22', '164.93'], ['24.06', '166.16'], ['25.45', '178.61'], ['25.96', '174.41'], ['24.63', '170.17'], ['23.25', '169.31'], ['22.87', '169.81'], ['25.06', '175.55'], ['24.29', '171.29'], ['24.95', '174.70'], ['25.18', '184.36'], ['24.88', '177.48'], ['24.93', '178.21'], ['23.83', '174.07'], ['24.59', '168.76'], ['25.87', '183.63'], ['25.50', '170.71'], ['25.01', '181.19'], ['26.00', '173.40'], ['24.73', '178.71'], ['27.04', '183.48'], ['21.93', '168.61'], ['25.35', '170.31'], ['24.75', '176.97'], ['27.26', '178.21'], ['24.47', '172.49'], ['23.34', '170.96'], ['26.03', '178.86'], ['25.61', '175.13'], ['27.54', '180.09'], ['22.29', '164.95'], ['24.87', '178.83'], ['24.86', '166.94'], ['24.37', '176.29'], ['23.56', '174.56'], ['24.09', '170.09'], ['24.78', '170.50'], ['25.33', '172.24'], ['23.90', '169.37'], ['23.93', '169.22'], ['24.77', '177.55'], ['23.31', '171.12'], ['24.16', '170.67'], ['23.78', '173.70'], ['23.93', '166.61'], ['24.67', '169.44'], ['25.69', '176.33'], ['25.22', '176.90'], ['24.95', '179.53'], ['24.84', '176.49'], ['25.63', '168.34'], ['25.33', '179.35'], ['25.30', '176.44'], ['24.40', '175.07'], ['24.56', '177.30'], ['24.37', '173.93'], ['24.22', '171.91'], ['26.24', '179.97'], ['25.38', '169.27'], ['23.60', '173.60'], ['26.11', '175.71'], ['24.55', '169.85'], ['22.71', '170.57'], ['24.18', '173.86'], ['23.74', '178.64'], ['25.33', '179.29'], ['22.85', '167.26'], ['25.30', '175.13'], ['24.46', '164.93'], ['24.06', '174.87'], ['26.10', '178.59'], ['24.40', '174.08'], ['22.08', '165.83'], ['24.40', '171.65'], ['24.53', '176.90'], ['25.20', '175.77'], ['26.16', '175.97'], ['22.95', '173.72'], ['22.64', '170.30'], ['24.54', '178.09'], ['24.14', '171.88'], ['25.52', '174.59'], ['24.65', '172.20'], ['24.81', '173.81'], ['23.69', '170.97'], ['25.92', '176.80'], ['25.62', '173.06'], ['24.29', '168.90'], ['25.55', '172.64'], ['24.80', '175.76'], ['24.98', '174.88'], ['25.28', '177.81'], ['23.52', '166.20'], ['25.46', '177.52'], ['25.24', '176.89'], ['23.95', '173.14'], ['25.28', '170.83'], ['23.42', '174.94'], ['23.80', '173.59'], ['25.08', '172.24'], ['24.70', '175.27'], ['24.68', '180.09'], ['25.10', '172.03'], ['25.02', '178.61'], ['24.58', '176.34'], ['23.12', '164.15'], ['24.10', '173.85'], ['26.09', '177.00'], ['22.46', '166.20'], ['22.95', '163.54'], ['25.00', '171.14'], ['24.47', '169.51'], ['26.03', '174.54'], ['21.76', '172.88'], ['25.03', '176.93'], ['24.56', '176.93'], ['24.61', '168.49'], ['25.51', '177.11'], ['24.48', '175.52'], ['24.39', '174.60'], ['24.55', '174.93'], ['24.58', '169.48'], ['24.69', '171.82'], ['24.08', '175.29'], ['25.85', '175.86'], ['24.28', '170.63'], ['24.34', '165.38'], ['25.13', '175.43'], ['25.90', '169.70'], ['24.50', '169.81'], ['25.27', '180.09'], ['25.13', '171.47'], ['24.54', '178.94'], ['24.58', '168.57'], ['27.11', '184.00'], ['22.84', '170.74'], ['23.05', '173.44'], ['24.22', '171.50'], ['25.71', '176.00'], ['24.70', '171.22'], ['25.16', '178.60'], ['25.21', '176.95'], ['24.35', '174.10'], ['23.86', '166.84'], ['24.04', '171.08'], ['23.29', '170.48'], ['26.66', '178.20'], ['24.84', '175.66'], ['25.47', '169.99'], ['24.94', '177.07'], ['22.97', '175.15'], ['24.81', '172.67'], ['25.64', '175.53'], ['25.69', '182.89'], ['24.74', '172.87'], ['23.77', '172.91'], ['26.57', '186.15'], ['22.98', '167.09'], ['24.00', '170.12'], ['24.20', '168.90'], ['25.01', '171.37'], ['25.26', '179.04'], ['25.24', '170.64'], ['22.20', '161.17'], ['25.89', '174.59'], ['24.21', '172.91'], ['23.55', '171.68'], ['24.48', '172.30'], ['27.03', '179.51'], ['24.44', '173.24'], ['24.54', '172.65'], ['25.88', '172.97'], ['25.38', '175.44'], ['23.92', '174.52'], ['24.23', '178.62'], ['23.97', '176.95'], ['25.89', '174.04'], ['24.12', '170.20'], ['24.53', '173.69'], ['24.19', '173.21'], ['24.61', '173.64'], ['23.43', '166.78'], ['25.21', '172.90'], ['23.89', '169.27'], ['24.23', '174.22'], ['25.07', '178.73'], ['25.91', '183.50'], ['26.17', '186.34'], ['24.12', '171.69'], ['23.95', '169.83'], ['25.93', '180.15'], ['25.67', '175.21'], ['23.48', '174.07'], ['25.38', '178.36'], ['26.37', '177.63'], ['24.36', '170.24'], ['25.28', '176.55'], ['23.46', '167.78'], ['24.96', '168.93'], ['25.73', '170.50'], ['26.51', '177.17'], ['24.19', '175.21'], ['26.68', '174.80'], ['24.67', '172.88'], ['25.35', '174.65'], ['22.41', '168.07'], ['24.50', '179.38'], ['23.43', '166.12'], ['23.68', '171.18'], ['24.10', '166.82'], ['25.28', '176.60'], ['24.54', '176.30'], ['24.50', '179.85'], ['22.42', '171.45'], ['23.49', '168.66'], ['27.19', '181.79'], ['22.85', '177.87'], ['24.74', '170.60'], ['22.25', '161.87'], ['24.51', '167.51'], ['24.55', '177.00'], ['23.19', '175.58'], ['25.99', '172.99'], ['25.13', '174.90'], ['25.60', '169.80'], ['24.15', '174.35'], ['25.44', '172.71'], ['24.14', '169.26'], ['23.58', '174.07'], ['24.83', '171.05'], ['24.32', '168.97'], ['23.84', '170.85'], ['25.53', '174.22'], ['23.55', '172.26'], ['24.18', '171.59'], ['24.83', '163.55'], ['23.57', '171.00'], ['23.71', '171.79'], ['26.38', '176.45'], ['24.71', '173.69'], ['25.17', '171.20'], ['24.15', '171.01'], ['24.09', '174.98'], ['25.49', '176.71'], ['24.81', '172.47'], ['24.25', '177.72'], ['24.53', '176.43'], ['25.48', '170.90'], ['25.79', '170.06'], ['23.50', '172.94'], ['24.07', '166.99'], ['24.28', '177.70'], ['24.68', '173.39'], ['26.49', '175.79'], ['25.85', '172.17'], ['25.26', '179.85'], ['24.68', '173.46'], ['23.48', '164.96'], ['26.30', '180.41'], ['26.25', '178.38'], ['23.99', '177.53'], ['23.47', '166.57'], ['23.71', '170.76'], ['27.09', '176.42'], ['21.44', '166.21'], ['23.00', '175.62'], ['24.27', '175.62'], ['24.73', '171.77'], ['24.63', '172.69'], ['24.50', '175.14'], ['25.81', '173.92'], ['24.09', '172.01'], ['24.25', '174.68'], ['25.13', '174.43'], ['24.42', '164.85'], ['26.10', '177.97'], ['25.32', '178.11'], ['23.86', '178.68'], ['26.12', '182.85'], ['25.20', '172.80'], ['24.41', '175.91'], ['24.88', '176.86'], ['23.77', '174.49'], ['24.24', '176.32'], ['25.68', '172.98'], ['25.46', '181.12'], ['23.48', '176.18'], ['25.80', '175.67'], ['24.59', '175.84'], ['23.69', '175.86'], ['24.81', '175.78'], ['25.20', '174.37'], ['25.49', '181.19'], ['24.99', '173.72'], ['23.53', '175.32'], ['24.73', '168.05'], ['22.87', '162.20'], ['25.95', '175.85'], ['23.51', '167.21'], ['25.11', '178.72'], ['23.28', '160.42'], ['25.66', '172.96'], ['24.72', '169.48'], ['24.55', '174.94'], ['26.02', '174.48'], ['24.31', '170.13'], ['25.16', '169.53'], ['25.66', '173.22'], ['25.36', '184.86'], ['23.40', '171.00'], ['23.50', '175.64'], ['23.10', '167.73'], ['23.36', '173.86'], ['24.37', '176.65'], ['24.72', '167.77'], ['25.91', '172.28'], ['24.94', '175.35'], ['24.23', '173.50'], ['23.05', '171.91'], ['24.67', '169.39'], ['25.16', '177.94'], ['24.94', '170.10'], ['24.93', '175.31'], ['22.85', '169.20'], ['24.70', '168.69'], ['24.11', '175.28'], ['23.60', '170.85'], ['26.34', '178.28'], ['24.25', '167.48'], ['25.03', '175.39'], ['23.15', '167.60'], ['24.53', '176.57'], ['25.68', '178.61'], ['23.74', '175.67'], ['25.99', '172.61'], ['24.75', '171.17'], ['23.62', '169.06'], ['26.78', '181.96'], ['22.77', '174.92'], ['25.89', '171.19'], ['24.16', '168.13'], ['25.55', '178.75'], ['24.53', '171.43'], ['23.92', '169.96'], ['22.60', '164.82'], ['25.21', '177.93'], ['22.32', '166.93'], ['23.97', '168.56'], ['25.00', '173.78'], ['26.40', '181.64'], ['26.09', '175.78'], ['24.65', '171.43'], ['25.32', '175.59'], ['24.55', '171.57'], ['24.72', '171.29'], ['24.01', '167.48'], ['25.08', '181.68'], ['24.74', '174.14'], ['23.72', '169.71'], ['23.63', '169.80'], ['25.93', '179.34'], ['23.12', '171.63'], ['26.80', '177.33'], ['24.45', '172.64'], ['26.49', '179.23'], ['24.29', '170.30'], ['25.17', '169.27'], ['26.07', '177.42'], ['26.47', '178.40'], ['23.69', '172.63'], ['24.60', '172.80'], ['24.26', '168.83'], ['24.67', '171.84'], ['25.11', '174.27'], ['25.94', '174.03'], ['24.56', '170.59'], ['24.31', '170.43'], ['25.15', '175.68'], ['23.81', '174.79'], ['23.36', '163.40'], ['22.84', '175.87'], ['24.24', '173.09'], ['21.91', '170.99'], ['26.75', '178.75'], ['23.94', '168.69'], ['23.38', '177.28'], ['24.19', '168.99'], ['23.77', '172.27'], ['25.27', '178.30'], ['25.32', '170.77'], ['24.07', '174.66'], ['25.48', '180.16'], ['23.14', '168.27'], ['21.78', '160.22'], ['22.47', '165.54'], ['26.40', '179.03'], ['26.57', '182.75'], ['25.00', '166.00'], ['26.06', '177.57'], ['24.13', '175.41'], ['24.08', '171.86'], ['24.51', '173.22'], ['23.01', '175.80'], ['24.09', '174.93'], ['24.67', '171.45'], ['22.86', '167.21'], ['24.96', '175.91'], ['24.67', '180.44'], ['22.98', '169.26'], ['25.28', '173.80'], ['24.26', '173.18'], ['25.29', '181.93'], ['24.00', '177.42'], ['22.04', '168.20'], ['24.22', '170.47'], ['24.14', '174.79'], ['25.09', '176.67'], ['23.09', '168.27'], ['24.20', '173.40'], ['23.22', '165.09'], ['24.12', '170.79'], ['24.18', '174.45'], ['24.31', '168.96'], ['24.14', '175.58'], ['22.55', '168.99'], ['25.47', '175.93'], ['22.71', '170.85'], ['25.02', '173.62'], ['24.87', '175.99'], ['24.51', '175.92'], ['23.02', '168.53'], ['24.67', '174.32'], ['25.62', '171.55'], ['24.08', '176.29'], ['21.67', '170.88'], ['23.89', '176.99'], ['24.98', '175.34'], ['26.66', '179.80'], ['23.82', '169.48'], ['23.87', '168.18'], ['24.94', '180.47'], ['24.76', '171.66'], ['25.33', '176.78'], ['24.32', '172.63'], ['24.45', '167.83'], ['24.67', '179.22'], ['24.46', '169.44'], ['24.56', '173.22'], ['25.77', '175.48'], ['24.86', '184.10'], ['24.38', '170.43'], ['25.10', '181.92'], ['23.84', '162.76'], ['22.94', '169.68'], ['23.45', '178.54'], ['25.28', '179.43'], ['24.63', '175.90'], ['25.90', '170.41'], ['24.32', '172.25'], ['23.91', '169.60'], ['26.22', '177.13'], ['24.60', '173.18'], ['24.89', '180.11'], ['24.65', '174.18'], ['24.67', '172.82'], ['25.45', '183.74'], ['22.46', '165.41'], ['25.02', '180.72'], ['24.83', '172.58'], ['25.33', '172.77'], ['25.17', '178.72'], ['24.86', '170.83'], ['23.66', '166.02'], ['24.68', '181.72'], ['23.31', '177.85'], ['25.84', '176.98'], ['25.37', '175.10'], ['24.86', '166.19'], ['25.76', '179.35'], ['24.75', '168.24'], ['23.47', '173.31'], ['24.83', '180.01'], ['23.70', '171.18'], ['23.77', '172.75'], ['24.06', '173.26'], ['22.92', '169.46'], ['24.41', '175.35'], ['24.98', '176.58'], ['25.84', '181.63'], ['24.38', '178.21'], ['25.15', '173.39'], ['23.53', '167.95'], ['23.94', '168.06'], ['26.79', '174.61'], ['25.85', '171.51'], ['24.98', '174.26'], ['25.90', '181.49'], ['25.99', '179.88'], ['26.42', '179.32'], ['22.61', '171.11'], ['24.46', '167.39'], ['24.91', '176.46'], ['23.18', '176.73'], ['23.85', '167.49'], ['25.66', '172.53'], ['24.06', '177.62'], ['25.36', '173.30'], ['23.63', '171.64'], ['24.53', '173.72'], ['25.89', '173.48'], ['22.82', '170.89'], ['25.06', '173.55'], ['24.39', '178.05'], ['24.83', '172.38'], ['25.04', '174.13'], ['22.13', '165.85'], ['25.73', '172.84'], ['24.26', '166.35'], ['25.23', '170.16'], ['23.71', '171.90'], ['24.36', '166.21'], ['22.71', '172.25'], ['24.56', '173.51'], ['24.21', '176.83'], ['23.11', '174.53'], ['24.48', '177.98'], ['26.40', '179.87'], ['24.60', '171.47'], ['24.72', '177.02'], ['24.96', '171.45'], ['25.24', '177.47'], ['25.89', '172.11'], ['25.28', '179.07'], ['25.39', '169.10'], ['26.62', '176.38'], ['22.88', '161.75'], ['23.04', '175.08'], ['26.36', '175.69'], ['26.29', '173.15'], ['23.79', '174.09'], ['24.07', '174.81'], ['23.71', '171.00'], ['25.20', '173.43'], ['25.46', '173.45'], ['25.38', '175.27'], ['25.66', '173.70'], ['23.78', '177.29'], ['24.33', '174.88'], ['26.09', '177.91'], ['24.13', '168.19'], ['25.58', '180.09'], ['25.83', '183.41'], ['24.66', '177.15'], ['23.76', '173.83'], ['24.57', '177.32'], ['25.09', '178.22'], ['23.85', '173.88'], ['24.93', '172.33'], ['24.48', '173.10'], ['23.69', '162.50'], ['23.69', '169.37'], ['25.86', '177.36'], ['25.43', '178.00'], ['26.18', '175.22'], ['25.03', '175.01'], ['24.38', '167.93'], ['23.32', '173.17'], ['23.47', '169.86'], ['24.75', '176.99'], ['24.51', '175.21'], ['23.86', '170.18'], ['24.11', '167.67'], ['24.51', '168.21'], ['25.67', '179.70'], ['24.73', '180.99'], ['26.41', '178.99'], ['23.54', '172.64'], ['25.60', '181.66'], ['22.72', '164.69'], ['23.50', '175.79'], ['24.95', '180.58'], ['24.57', '170.42'], ['24.40', '168.51'], ['24.30', '177.18'], ['25.29', '183.78'], ['25.69', '176.07'], ['23.93', '166.33'], ['26.07', '172.42'], ['24.80', '177.21'], ['22.81', '173.70'], ['25.07', '177.47'], ['23.69', '164.78'], ['24.04', '180.70'], ['24.95', '179.51'], ['25.76', '168.11'], ['26.60', '182.84'], ['26.57', '182.22'], ['23.86', '173.30'], ['23.74', '169.02'], ['25.04', '167.35'], ['24.65', '166.40'], ['24.69', '170.37'], ['24.74', '164.39'], ['23.54', '168.34'], ['23.15', '164.05'], ['25.22', '172.27'], ['24.68', '171.83'], ['24.17', '173.42'], ['22.90', '176.42'], ['24.36', '164.30'], ['24.78', '171.45'], ['24.34', '164.29'], ['26.70', '184.47'], ['24.23', '170.97'], ['23.33', '171.75'], ['25.83', '175.97'], ['25.32', '174.47'], ['23.01', '168.35'], ['25.62', '177.87'], ['24.66', '171.78'], ['25.71', '181.24'], ['24.69', '176.07'], ['25.32', '180.10'], ['25.04', '165.55'], ['25.21', '177.63'], ['26.37', '172.54'], ['24.95', '178.42'], ['24.50', '174.16'], ['24.55', '173.94'], ['24.08', '171.50'], ['25.56', '171.67'], ['24.39', '174.02'], ['25.22', '184.47'], ['22.98', '170.44'], ['23.82', '165.57'], ['23.27', '169.05'], ['24.31', '181.09'], ['23.55', '170.68'], ['23.19', '165.88'], ['23.82', '165.55'], ['25.87', '179.20'], ['23.12', '177.56'], ['24.01', '177.85'], ['22.95', '170.19'], ['22.90', '167.12'], ['23.74', '173.17'], ['25.23', '174.90'], ['24.93', '183.04'], ['24.43', '174.07'], ['23.47', '170.97'], ['25.82', '177.72'], ['24.62', '170.93'], ['24.35', '169.35'], ['25.18', '174.11'], ['25.30', '175.51'], ['21.66', '159.91'], ['24.35', '177.21'], ['25.00', '170.56'], ['23.55', '169.00'], ['24.91', '173.31'], ['24.88', '177.64'], ['24.05', '171.95'], ['25.82', '176.37'], ['23.96', '177.09'], ['21.96', '171.84'], ['23.00', '165.49'], ['25.84', '177.11'], ['24.71', '163.09'], ['24.95', '178.56'], ['24.42', '177.07'], ['24.13', '179.99'], ['25.69', '178.61'], ['23.78', '171.66'], ['22.56', '171.11'], ['23.97', '175.25'], ['23.63', '171.12'], ['24.78', '177.72'], ['26.29', '174.32'], ['24.92', '171.65'], ['24.29', '172.65'], ['24.40', '172.15'], ['25.57', '176.26'], ['25.25', '170.48'], ['25.95', '170.71'], ['24.88', '177.76'], ['25.55', '169.12']]\n"
     ]
    }
   ],
   "source": [
    "# Imprime os dados\n",
    "print(dataset)"
   ]
  },
  {
   "cell_type": "code",
   "execution_count": 5,
   "metadata": {},
   "outputs": [
    {
     "data": {
      "text/plain": [
       "[<matplotlib.lines.Line2D at 0x11cf85e10>]"
      ]
     },
     "execution_count": 5,
     "metadata": {},
     "output_type": "execute_result"
    },
    {
     "data": {
      "image/png": "[encoded data removed]",
      "text/plain": [
       "<Figure size 432x288 with 1 Axes>"
      ]
     },
     "metadata": {
      "needs_background": "light"
     },
     "output_type": "display_data"
    }
   ],
   "source": [
    "# Plot\n",
    "plot([x[0] for x in dataset],[x[1] for x in dataset], 'ro', color = 'red', marker = 'p')"
   ]
  },
  {
   "cell_type": "markdown",
   "metadata": {},
   "source": [
    "### Função de Erro\n",
    "\n",
    "A maneira padrão de encontrar a melhor linha é definir uma função de erro que calcula o erro para um dado valor de a & b para todos os pontos de dados. Desta forma, a função de erro mede quão boa é uma linha para um conjunto de a & b. Uma função de erro popular é a função de erro quadrático que é definida como:\n",
    "\n",
    "$$ E = \\frac{1}{N}\\sum_{i=0}^N(t_i - (a + bx_i) )^2 $$\n",
    "\n",
    "A distância do erro é **ao quadrado** para garantir que o erro permaneça positivo para todo valor de x e a função de erro seja diferenciável. As linhas melhor ajustadas resultam em valores mais baixos da função de erro."
   ]
  },
  {
   "cell_type": "code",
   "execution_count": 9,
   "metadata": {},
   "outputs": [],
   "source": [
    "def func_error(a,b):\n",
    "    totalError = 0\n",
    "    for item in dataset:\n",
    "        x = float(item[0])\n",
    "        y = float(item[1])\n",
    "        totalError += (y - (a + b*x))**2\n",
    "    return totalError/float(len(dataset))"
   ]
  },
  {
   "cell_type": "markdown",
   "metadata": {},
   "source": [
    "Partindo de algum lugar qualquer, o algoritmo de descida do gradiente move-se para baixo para procurar o valor ideal de a & b. Em cada iteração, **atualizará** os valores a & b para uma linha que forneça taxas de erro menores."
   ]
  },
  {
   "cell_type": "markdown",
   "metadata": {},
   "source": [
    "### Definindo a Descida do Gradiente\n",
    "\n",
    "Para executar a descida do gradiente na função de erro, primeiro precisamos calcular o gradiente. Como a função de erro $ E (a, b) $ é uma função de duas variáveis, os gradientes correspondentes são:\n",
    "\n",
    "$$ \\frac{\\partial E}{\\partial b} = \\frac{2}{N}(t_i - bx_i - a)(-x) \\ \\ ,\\ \\frac{\\partial E}{\\partial a} = \\frac{2}{N}(t_i - bx_i - a)(-1)$$\n",
    "\n",
    "O algoritmo de descida do gradiente usa valores dessas duas funções para calcular o valor da etapa e a direção a ser movida."
   ]
  },
  {
   "cell_type": "markdown",
   "metadata": {},
   "source": [
    "A descida do gradiente é um algoritmo de otimização iterativa de primeira ordem para encontrar o mínimo de uma função. Para encontrar um mínimo local de uma função usando gradiente descendente, toma-se medidas proporcionais ao negativo do gradiente (ou do gradiente aproximado) da função no ponto atual. Se, em vez disso, a pessoa adotar medidas proporcionais ao positivo do gradiente, será abordado um máximo local dessa função; o procedimento é então conhecido como subida do gradiente.\n",
    "\n",
    "A descida do gradiente é um método popular no campo do aprendizado de máquina porque parte do processo de aprendizado de máquina é minimizar a taxa de erro, a partir de um conjunto de dados de treinamento. A descida do gradiente é usada para encontrar o erro mínimo, minimizando uma função de \"custo\".\n",
    "\n",
    "A descida do gradiente é baseada na observação de que, se a função multi-variável ${ F(\\mathbf {x} )}$ é definida e diferenciável em uma vizinhança de um ponto $ \\mathbf {a} $, então $F(\\mathbf {x} ) $ diminui mais rapidamente se um valor vai de $\\mathbf {a} $ na direção do gradiente negativo de ${\\displaystyle F}$ em $\\mathbf {a} ,$ $$ -\\nabla F(\\mathbf {a} ) $$Com isso, se\n",
    "\n",
    "$${\\displaystyle \\mathbf {a^{n+1}} =\\mathbf {a^{n}} -\\gamma \\nabla F(\\mathbf {a^{n}} )}$$\n",
    "\n",
    "para ${\\displaystyle \\gamma }$ pequeno suficiente, então ${\\displaystyle F(\\mathbf {a^{n}} )\\geq F(\\mathbf {a^{n+1}} )}$. Em outras palavras, o termo ${\\displaystyle \\gamma \\nabla F(\\mathbf {a} )}$ é subtraído de ${\\displaystyle \\mathbf {a} }$ pois queremos mover **contra** o gradiente, ou seja, para baixo, para o mínimo. Com esta observação em mente, começa-se com um palpite ${\\displaystyle \\mathbf {x} _{0}} $ para o mínimo local de ${\\displaystyle F}$ , e considera-se a sequência ${\\displaystyle \\mathbf {x} _{0},\\mathbf {x} _{1},\\mathbf {x} _{2},\\dots}$ tal como\n",
    "\n",
    "$${\\displaystyle \\mathbf {x} _{n+1}=\\mathbf {x} _{n}-\\gamma _{n}\\nabla F(\\mathbf {x} _{n}),\\ n\\geq 0.}$$\n",
    "\n",
    "$$F(\\mathbf {x} _{0})\\geq F(\\mathbf {x} _{1})\\geq F(\\mathbf {x} _{2})\\geq \\cdots $$\n",
    "\n",
    "por isso espera-se que a sequência ${\\displaystyle (\\mathbf {x} _{n})} $ convirja para o mínimo local desejado."
   ]
  },
  {
   "cell_type": "markdown",
   "metadata": {},
   "source": [
    "### Função Para o Passo do Gradiente"
   ]
  },
  {
   "cell_type": "code",
   "execution_count": 6,
   "metadata": {},
   "outputs": [],
   "source": [
    "def step_gradient(current_a, current_b):\n",
    "    de_da = 0\n",
    "    de_db = 0\n",
    "    N = float(len(dataset))\n",
    "    \n",
    "    for point in dataset:\n",
    "        x = float(point[0])\n",
    "        t = float(point[1])\n",
    "        \n",
    "        de_db += (-2/N)*(t - current_b * x + current_a)*(x)\n",
    "        de_da += (-2/N)*(t - current_b * x + current_a)\n",
    "        \n",
    "    new_a = current_a - de_da * learning_rate\n",
    "    new_b = current_b - de_db * learning_rate\n",
    "    \n",
    "    return [new_a, new_b]"
   ]
  },
  {
   "cell_type": "markdown",
   "metadata": {},
   "source": [
    "### Taxa de Aprendizado\n",
    "\n",
    "A variável Taxa de Aprendizagem determina o tamanho do passo que devemos dar em descida durante cada iteração. Um longo passo pode ultrapassar o mínimo e uma taxa muito pequena levará mais tempo para terminar."
   ]
  },
  {
   "cell_type": "code",
   "execution_count": 17,
   "metadata": {},
   "outputs": [],
   "source": [
    "# Taxa de aprendizado\n",
    "learning_rate = 0.0001\n",
    "\n",
    "# Iterações\n",
    "iterations = 500\n",
    "\n",
    "# Variáveis para o Plot\n",
    "errors = []\n",
    "a_values = []\n",
    "b_values = []"
   ]
  },
  {
   "cell_type": "markdown",
   "metadata": {},
   "source": [
    "### Função Para Descida do Gradiente"
   ]
  },
  {
   "cell_type": "code",
   "execution_count": 18,
   "metadata": {},
   "outputs": [],
   "source": [
    "def gradient_descent(i_a, i_b):\n",
    "    a = i_a\n",
    "    b = i_b\n",
    "    \n",
    "    for i in range(iterations):\n",
    "        a, b = step_gradient(a, b)\n",
    "        errors.append(func_error(a, b))\n",
    "        a_values.append(a)\n",
    "        b_values.append(b)\n",
    "    return [a, b]"
   ]
  },
  {
   "cell_type": "markdown",
   "metadata": {},
   "source": [
    "### Função Para o Treinamento"
   ]
  },
  {
   "cell_type": "code",
   "execution_count": 19,
   "metadata": {},
   "outputs": [],
   "source": [
    "def treinamento():\n",
    "    initial_a = 0\n",
    "    initial_b = 0\n",
    "    \n",
    "    print(\"Valor inicial de a: {} \\nValor inicial de b: {}\".format(initial_a, initial_b))\n",
    "    \n",
    "    print(\"\\nErro inicial: {}\".format(func_error(initial_a, initial_b)))\n",
    "    \n",
    "    # Treinamento\n",
    "    [a,b] = gradient_descent(initial_a, initial_b)\n",
    "    \n",
    "    print(\"\\nApós {} iterações, valor final de a: {}, valor final de b: {}\".format(iterations, a, b))\n",
    "    \n",
    "    print(\"\\nErro Final: {}\".format(func_error(a, b)))\n",
    "    \n",
    "    return [a,b]"
   ]
  },
  {
   "cell_type": "markdown",
   "metadata": {},
   "source": [
    "### Executa o Treinamento"
   ]
  },
  {
   "cell_type": "code",
   "execution_count": 20,
   "metadata": {},
   "outputs": [
    {
     "name": "stdout",
     "output_type": "stream",
     "text": [
      "Valor inicial de a: 0 \n",
      "Valor inicial de b: 0\n",
      "\n",
      "Erro inicial: 30179.035455\n",
      "\n",
      "Após 500 iterações, valor final de a: 0.30688958271971634, valor final de b: 7.055715527084805\n",
      "\n",
      "Erro Final: 37.67549577296781\n"
     ]
    }
   ],
   "source": [
    "[a,b] = treinamento()"
   ]
  },
  {
   "cell_type": "code",
   "execution_count": 21,
   "metadata": {},
   "outputs": [
    {
     "data": {
      "text/plain": [
       "[<matplotlib.lines.Line2D at 0x11dc57c50>]"
      ]
     },
     "execution_count": 21,
     "metadata": {},
     "output_type": "execute_result"
    },
    {
     "data": {
      "image/png": "[encoded data removed]",
      "text/plain": [
       "<Figure size 432x288 with 1 Axes>"
      ]
     },
     "metadata": {
      "needs_background": "light"
     },
     "output_type": "display_data"
    }
   ],
   "source": [
    "# Plot Erros x Iterações\n",
    "plot(errors[:50])"
   ]
  },
  {
   "cell_type": "code",
   "execution_count": 22,
   "metadata": {},
   "outputs": [],
   "source": [
    "# Função para fazer previsões\n",
    "def preve_manut(horas):\n",
    "    \"\"\"\n",
    "    Input: Horas de operação por semana\n",
    "    Output: Dias para manutenação preventiva\n",
    "    \"\"\"\n",
    "    return round((a + b * horas), 2)"
   ]
  },
  {
   "cell_type": "code",
   "execution_count": 23,
   "metadata": {},
   "outputs": [
    {
     "name": "stdout",
     "output_type": "stream",
     "text": [
      "Número de dias para a próxima manutenção preventiva: 197.87\n"
     ]
    }
   ],
   "source": [
    "# Previsão\n",
    "print(\"Número de dias para a próxima manutenção preventiva:\", preve_manut(28))"
   ]
  },
  {
   "cell_type": "code",
   "execution_count": 24,
   "metadata": {},
   "outputs": [
    {
     "name": "stdout",
     "output_type": "stream",
     "text": [
      "Número de dias para a próxima manutenção preventiva: 155.53\n"
     ]
    }
   ],
   "source": [
    "# Previsão\n",
    "print(\"Número de dias para a próxima manutenção preventiva:\", preve_manut(22))"
   ]
  },
  {
   "cell_type": "markdown",
   "metadata": {},
   "source": [
    "# Fim"
   ]
  }
 ],
 "metadata": {
  "kernelspec": {
   "display_name": "Python 3",
   "language": "python",
   "name": "python3"
  },
  "language_info": {
   "codemirror_mode": {
    "name": "ipython",
    "version": 3
   },
   "file_extension": ".py",
   "mimetype": "text/x-python",
   "name": "python",
   "nbconvert_exporter": "python",
   "pygments_lexer": "ipython3",
   "version": "3.7.1"
  }
 },
 "nbformat": 4,
 "nbformat_minor": 2
}
