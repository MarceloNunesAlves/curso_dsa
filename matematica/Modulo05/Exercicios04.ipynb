{
 "cells": [
  {
   "cell_type": "markdown",
   "metadata": {},
   "source": [
    "# <font color='blue'>Data Science Academy</font>\n",
    "# <font color='blue'>Matemática Para Machine Learning</font>"
   ]
  },
  {
   "cell_type": "markdown",
   "metadata": {},
   "source": [
    "## Lista de Exercícios  - Capítulo 5"
   ]
  },
  {
   "cell_type": "markdown",
   "metadata": {},
   "source": [
    "O objetivo desta lista de exercícios é você praticar os principais conceitos estudados neste capítulo, ao mesmo tempo que desenvolve suas habilidades em lógica de programação com a linguagem Python. \n",
    "\n",
    "Caso tenha dúvidas, isso é absolutamente normal e faça um trabalho de pesquisa a fim de relembrar o formato das operações matemáticas.\n",
    "\n",
    "Quando encontrar o formato de uma operação que resolva o exercício proposto, use a linguagem Python para representar esta operação. Em essência, é assim que aplicamos Matemática Para Machine Learning, construindo algoritmos e representando esses algoritmos em linguagem de programação."
   ]
  },
  {
   "cell_type": "markdown",
   "metadata": {},
   "source": [
    "A maioria das pessoas considera a Matemática e a Física, assustadoras bestas das quais é melhor manter a distância. Computadores, no entanto, podem nos ajudar a domar a complexidade e a aritmética tediosa das manipulações associadas a esses assuntos. De fato, Matemática e Física são muito mais acessíveis, uma vez que você tem o poder de computadores do seu lado.\n",
    "\n",
    "Divirta-se!!"
   ]
  },
  {
   "cell_type": "markdown",
   "metadata": {},
   "source": [
    "### Exercício 1 - Crie um algoritmo em Python para a multiplicação das duas matrizes abaixo. Seu algoritmo deve checar se as matrizes atendem às condições de multiplicação de matrizes estudadas neste capítulo.\n",
    "\n",
    "ATENÇÃO: NÃO use o NumPy (seria fácil demais). O objetivo é você testar sua lógica de programação para operação com matrizes."
   ]
  },
  {
   "cell_type": "code",
   "execution_count": 12,
   "metadata": {},
   "outputs": [
    {
     "name": "stdout",
     "output_type": "stream",
     "text": [
      "\n",
      "Matriz resultante da multiplicação entre as duas matrizes:  [[12, 18], [27, 42], [42, 66], [57, 90]]\n"
     ]
    }
   ],
   "source": [
    "# Solução\n",
    "\n",
    "# Matrizes\n",
    "x = [[1,2,3],[4,5,6],[7,8,9],[10,11,12]]\n",
    "y = [[1,2],[1,2],[3,4]]\n",
    "\n",
    "def matrixmult (A, B):\n",
    "    # Solução aqui\n",
    "    lista = [[0 for k in range(2)] for j in range(4)]\n",
    "    \n",
    "    for idx_linha, linha in enumerate(A):\n",
    "        for idx_col in range(len(B)-1):\n",
    "            val_cell = 0\n",
    "            for idx_valor, valor in enumerate(linha):\n",
    "                val_cell += B[idx_valor][idx_col]*valor\n",
    "            lista[idx_linha][idx_col] = val_cell\n",
    "    return lista\n",
    "\n",
    "matriz_resultante = matrixmult(x, y)\n",
    "print(\"\\nMatriz resultante da multiplicação entre as duas matrizes: \", matriz_resultante)"
   ]
  },
  {
   "cell_type": "markdown",
   "metadata": {},
   "source": [
    "### Exercício 2 - Agora sim, usando NumPy, verifique se o algoritmo criado no exercício anterior realmente está correto validando o resultado com o que o NumPy oferece para multiplicação de matrizes."
   ]
  },
  {
   "cell_type": "code",
   "execution_count": 13,
   "metadata": {},
   "outputs": [
    {
     "name": "stdout",
     "output_type": "stream",
     "text": [
      "\n",
      "Matriz resultante da multiplicação entre as duas matrizes:  [[12 18]\n",
      " [27 42]\n",
      " [42 66]\n",
      " [57 90]]\n"
     ]
    }
   ],
   "source": [
    "# Solução\n",
    "\n",
    "import numpy as np\n",
    "\n",
    "# Matrizes\n",
    "x = [[1,2,3],[4,5,6],[7,8,9],[10,11,12]]\n",
    "y = [[1,2],[1,2],[3,4]]\n",
    "\n",
    "# Converte as listas Python para matrizes NumPy\n",
    "x = np.array(x)\n",
    "y = np.array(y)\n",
    "\n",
    "# Resultado\n",
    "matriz_resultante = np.dot(x, y)\n",
    "print(\"\\nMatriz resultante da multiplicação entre as duas matrizes: \", matriz_resultante)"
   ]
  },
  {
   "cell_type": "markdown",
   "metadata": {},
   "source": [
    "### Exercício 3 - Considerando as duas matrizes abaixo, crie um algoritmo para multiplicar as matrizes.\n",
    "\n",
    "Dica: Use loops aninhados para compreender a regra matemática e traduzir isso em linguagem de programação."
   ]
  },
  {
   "cell_type": "code",
   "execution_count": 15,
   "metadata": {},
   "outputs": [
    {
     "name": "stdout",
     "output_type": "stream",
     "text": [
      "\n",
      "Matriz resultante da multiplicação entre as duas matrizes:  [[114, 160, 0], [74, 97, 0], [119, 157, 0]]\n"
     ]
    }
   ],
   "source": [
    "# Solução\n",
    "\n",
    "# Matriz 3x3 \n",
    "X = [[12,7,3],\n",
    "    [4 ,5,6],\n",
    "    [7 ,8,9]]\n",
    "\n",
    "# Matriz 3x4\n",
    "Y = [[5,8,1,2],\n",
    "    [6,7,3,0],\n",
    "    [4,5,9,1]]\n",
    "\n",
    "def matrixmult (A, B):\n",
    "    # Solução aqui\n",
    "    lista = [[0 for k in range(3)] for j in range(3)]\n",
    "    \n",
    "    for idx_linha, linha in enumerate(A):\n",
    "        for idx_col in range(len(B)-1):\n",
    "            val_cell = 0\n",
    "            for idx_valor, valor in enumerate(linha):\n",
    "                val_cell += B[idx_valor][idx_col]*valor\n",
    "            lista[idx_linha][idx_col] = val_cell\n",
    "    return lista\n",
    "\n",
    "\n",
    "matriz_resultante = matrixmult(X, Y)\n",
    "print(\"\\nMatriz resultante da multiplicação entre as duas matrizes: \", matriz_resultante)"
   ]
  },
  {
   "cell_type": "markdown",
   "metadata": {},
   "source": [
    "### Exercício 4 - Realize a mesma operação anterior, mas desta vez usando list comprehension."
   ]
  },
  {
   "cell_type": "code",
   "execution_count": null,
   "metadata": {},
   "outputs": [],
   "source": [
    "# Solução\n",
    "\n",
    "# Matriz 3x3 \n",
    "X = [[12,7,3],\n",
    "    [4 ,5,6],\n",
    "    [7 ,8,9]]\n",
    "\n",
    "# Matriz 3x4\n",
    "Y = [[5,8,1,2],\n",
    "    [6,7,3,0],\n",
    "    [4,5,9,1]]\n"
   ]
  },
  {
   "cell_type": "markdown",
   "metadata": {},
   "source": [
    "### Exercício 5 - Considere as duas matrizes abaixo, x e y, e as duas diferentes soluções apresentadas para a multiplicação entre elas. Para cada execução, nós usamos o operador mágico %timeit para medir o tempo de execução. Você saberia explicar porque o tempo de execução é muito diferente? \n",
    "\n",
    "Dica: Essa costuma ser uma pergunta em entrevista para posição de Cientista de Dados."
   ]
  },
  {
   "cell_type": "code",
   "execution_count": 16,
   "metadata": {},
   "outputs": [
    {
     "name": "stdout",
     "output_type": "stream",
     "text": [
      "\n",
      "Tempo de execução na multiplicação customizada:\n",
      "13.1 µs ± 104 ns per loop (mean ± std. dev. of 7 runs, 100000 loops each)\n",
      "\n",
      "Tempo de execução na multiplicação via NumPy:\n",
      "7.59 µs ± 445 ns per loop (mean ± std. dev. of 7 runs, 100000 loops each)\n"
     ]
    }
   ],
   "source": [
    "# Solução\n",
    "\n",
    "import numpy as np\n",
    "\n",
    "x = [[1,2,3],[4,5,6],[7,8,9]]\n",
    "y = [[1,2,3],[1,2,3],[3,4,5]]\n",
    "\n",
    "def matrixmult (A, B):\n",
    "    rows_A = len(A)\n",
    "    cols_A = len(A[0])\n",
    "    rows_B = len(B)\n",
    "    cols_B = len(B[0])\n",
    "\n",
    "    if cols_A != rows_B:\n",
    "        print(\"Não é possível multiplicar essas duas matrizes. Dimensões incorretas.\")\n",
    "        return\n",
    "\n",
    "    # Crie a matriz de resultados como uma matriz nula\n",
    "    # Dimensões devem ser rows_A x cols_B\n",
    "    C = [[0 for row in range(cols_B)] for col in range(rows_A)]\n",
    "\n",
    "    for i in range(rows_A):\n",
    "        for j in range(cols_B):\n",
    "            for k in range(cols_A):\n",
    "                C[i][j] += A[i][k] * B[k][j]\n",
    "    return C\n",
    "\n",
    "# Tempo de execução na multiplicação customizada\n",
    "print(\"\\nTempo de execução na multiplicação customizada:\")\n",
    "%timeit matrixmult(x, y)\n",
    "\n",
    "\n",
    "# Tempo de execução na multiplicação via NumPy\n",
    "print(\"\\nTempo de execução na multiplicação via NumPy:\")\n",
    "%timeit np.multiply(x, y)"
   ]
  },
  {
   "cell_type": "markdown",
   "metadata": {},
   "source": [
    "Numpy é mais rapida, pois utiliza a CPU de uma forma mais eficiente."
   ]
  },
  {
   "cell_type": "markdown",
   "metadata": {},
   "source": [
    "### Exercício 6 - Calcule o determinante da matriz abaixo, usando NumPy."
   ]
  },
  {
   "cell_type": "code",
   "execution_count": 17,
   "metadata": {},
   "outputs": [
    {
     "data": {
      "text/plain": [
       "-2.0000000000000004"
      ]
     },
     "execution_count": 17,
     "metadata": {},
     "output_type": "execute_result"
    }
   ],
   "source": [
    "# Solução\n",
    "\n",
    "import numpy\n",
    "\n",
    "# Matriz\n",
    "M = [[1, 2], [3, 4]]\n",
    "\n",
    "# Determinante\n",
    "np.linalg.det(M)"
   ]
  },
  {
   "cell_type": "markdown",
   "metadata": {},
   "source": [
    "### Exercício 7 - Calcule a inversa da matriz abaixo usando NumPy."
   ]
  },
  {
   "cell_type": "code",
   "execution_count": 18,
   "metadata": {},
   "outputs": [
    {
     "name": "stdout",
     "output_type": "stream",
     "text": [
      "\n",
      "Solução 1: [[-2.5  1.5]\n",
      " [ 2.  -1. ]]\n"
     ]
    }
   ],
   "source": [
    "# Solução\n",
    "\n",
    "# Lista\n",
    "x = [[2,3],[4,5]]\n",
    "\n",
    "# Convertendo para matriz NumPy\n",
    "x = np.array(x)\n",
    "x_i = np.linalg.inv(x)\n",
    "\n",
    "# Solução 1\n",
    "print(\"\\nSolução 1:\", x_i)\n"
   ]
  },
  {
   "cell_type": "code",
   "execution_count": null,
   "metadata": {},
   "outputs": [],
   "source": [
    "# Solução 2\n",
    "print(\"\\nSolução 2:\")\n"
   ]
  },
  {
   "cell_type": "markdown",
   "metadata": {},
   "source": [
    "### Exercício 8 - O TensorFlow é o principal framework para Deep Learning. Usando uma de suas funções, encontre a inversa da matriz abaixo.\n",
    "\n",
    "Referência: https://www.tensorflow.org/api_guides/python/math_ops#Matrix_Math_Functions\n",
    "\n",
    "Dica: Pode ser necessário instalar o TensorFlow com o comando abaixo (descomente a linha e execute a célula)"
   ]
  },
  {
   "cell_type": "code",
   "execution_count": 21,
   "metadata": {
    "scrolled": true
   },
   "outputs": [],
   "source": [
    "#!pip install tensorflow==1.10.1"
   ]
  },
  {
   "cell_type": "code",
   "execution_count": 24,
   "metadata": {},
   "outputs": [
    {
     "name": "stderr",
     "output_type": "stream",
     "text": [
      "ERROR:root:Internal Python error in the inspect module.\n",
      "Below is the traceback from this internal error.\n",
      "\n"
     ]
    },
    {
     "name": "stdout",
     "output_type": "stream",
     "text": [
      "Traceback (most recent call last):\n",
      "  File \"/Users/marcelonunesalves/opt/anaconda3/lib/python3.7/site-packages/IPython/core/interactiveshell.py\", line 3326, in run_code\n",
      "    exec(code_obj, self.user_global_ns, self.user_ns)\n",
      "  File \"<ipython-input-24-1752ec116f0b>\", line 7, in <module>\n",
      "    x = tf.cast(x, tf.float64)\n",
      "AttributeError: module 'tensorflow' has no attribute 'cast'\n",
      "\n",
      "During handling of the above exception, another exception occurred:\n",
      "\n",
      "Traceback (most recent call last):\n",
      "  File \"/Users/marcelonunesalves/opt/anaconda3/lib/python3.7/site-packages/IPython/core/interactiveshell.py\", line 2040, in showtraceback\n",
      "    stb = value._render_traceback_()\n",
      "AttributeError: 'AttributeError' object has no attribute '_render_traceback_'\n",
      "\n",
      "During handling of the above exception, another exception occurred:\n",
      "\n",
      "Traceback (most recent call last):\n",
      "  File \"/Users/marcelonunesalves/opt/anaconda3/lib/python3.7/site-packages/tensorflow_core/python/pywrap_tensorflow_internal.py\", line 18, in swig_import_helper\n",
      "    fp, pathname, description = imp.find_module('_pywrap_tensorflow_internal', [dirname(__file__)])\n",
      "  File \"/Users/marcelonunesalves/opt/anaconda3/lib/python3.7/imp.py\", line 296, in find_module\n",
      "    raise ImportError(_ERR_MSG.format(name), name=name)\n",
      "ImportError: No module named '_pywrap_tensorflow_internal'\n",
      "\n",
      "During handling of the above exception, another exception occurred:\n",
      "\n",
      "Traceback (most recent call last):\n",
      "  File \"/Users/marcelonunesalves/opt/anaconda3/lib/python3.7/site-packages/tensorflow_core/python/pywrap_tensorflow.py\", line 58, in <module>\n",
      "    from tensorflow.python.pywrap_tensorflow_internal import *\n",
      "  File \"/Users/marcelonunesalves/opt/anaconda3/lib/python3.7/site-packages/tensorflow_core/python/pywrap_tensorflow_internal.py\", line 28, in <module>\n",
      "    _pywrap_tensorflow_internal = swig_import_helper()\n",
      "  File \"/Users/marcelonunesalves/opt/anaconda3/lib/python3.7/site-packages/tensorflow_core/python/pywrap_tensorflow_internal.py\", line 20, in swig_import_helper\n",
      "    import _pywrap_tensorflow_internal\n",
      "ModuleNotFoundError: No module named '_pywrap_tensorflow_internal'\n",
      "\n",
      "During handling of the above exception, another exception occurred:\n",
      "\n",
      "Traceback (most recent call last):\n",
      "  File \"/Users/marcelonunesalves/opt/anaconda3/lib/python3.7/site-packages/IPython/core/ultratb.py\", line 1101, in get_records\n",
      "    return _fixed_getinnerframes(etb, number_of_lines_of_context, tb_offset)\n",
      "  File \"/Users/marcelonunesalves/opt/anaconda3/lib/python3.7/site-packages/IPython/core/ultratb.py\", line 319, in wrapped\n",
      "    return f(*args, **kwargs)\n",
      "  File \"/Users/marcelonunesalves/opt/anaconda3/lib/python3.7/site-packages/IPython/core/ultratb.py\", line 353, in _fixed_getinnerframes\n",
      "    records = fix_frame_records_filenames(inspect.getinnerframes(etb, context))\n",
      "  File \"/Users/marcelonunesalves/opt/anaconda3/lib/python3.7/inspect.py\", line 1502, in getinnerframes\n",
      "    frameinfo = (tb.tb_frame,) + getframeinfo(tb, context)\n",
      "  File \"/Users/marcelonunesalves/opt/anaconda3/lib/python3.7/inspect.py\", line 1460, in getframeinfo\n",
      "    filename = getsourcefile(frame) or getfile(frame)\n",
      "  File \"/Users/marcelonunesalves/opt/anaconda3/lib/python3.7/inspect.py\", line 696, in getsourcefile\n",
      "    if getattr(getmodule(object, filename), '__loader__', None) is not None:\n",
      "  File \"/Users/marcelonunesalves/opt/anaconda3/lib/python3.7/inspect.py\", line 733, in getmodule\n",
      "    if ismodule(module) and hasattr(module, '__file__'):\n",
      "  File \"/Users/marcelonunesalves/opt/anaconda3/lib/python3.7/site-packages/tensorflow/__init__.py\", line 50, in __getattr__\n",
      "    module = self._load()\n",
      "  File \"/Users/marcelonunesalves/opt/anaconda3/lib/python3.7/site-packages/tensorflow/__init__.py\", line 44, in _load\n",
      "    module = _importlib.import_module(self.__name__)\n",
      "  File \"/Users/marcelonunesalves/opt/anaconda3/lib/python3.7/importlib/__init__.py\", line 127, in import_module\n",
      "    return _bootstrap._gcd_import(name[level:], package, level)\n",
      "  File \"<frozen importlib._bootstrap>\", line 1006, in _gcd_import\n",
      "  File \"<frozen importlib._bootstrap>\", line 983, in _find_and_load\n",
      "  File \"<frozen importlib._bootstrap>\", line 953, in _find_and_load_unlocked\n",
      "  File \"<frozen importlib._bootstrap>\", line 219, in _call_with_frames_removed\n",
      "  File \"<frozen importlib._bootstrap>\", line 1006, in _gcd_import\n",
      "  File \"<frozen importlib._bootstrap>\", line 983, in _find_and_load\n",
      "  File \"<frozen importlib._bootstrap>\", line 967, in _find_and_load_unlocked\n",
      "  File \"<frozen importlib._bootstrap>\", line 677, in _load_unlocked\n",
      "  File \"<frozen importlib._bootstrap_external>\", line 728, in exec_module\n",
      "  File \"<frozen importlib._bootstrap>\", line 219, in _call_with_frames_removed\n",
      "  File \"/Users/marcelonunesalves/opt/anaconda3/lib/python3.7/site-packages/tensorflow_core/__init__.py\", line 42, in <module>\n",
      "    from . _api.v2 import audio\n",
      "  File \"/Users/marcelonunesalves/opt/anaconda3/lib/python3.7/site-packages/tensorflow_core/_api/v2/audio/__init__.py\", line 10, in <module>\n",
      "    from tensorflow.python.ops.gen_audio_ops import decode_wav\n",
      "  File \"/Users/marcelonunesalves/opt/anaconda3/lib/python3.7/site-packages/tensorflow_core/python/ops/gen_audio_ops.py\", line 10, in <module>\n",
      "    from tensorflow.python import pywrap_tensorflow as _pywrap_tensorflow\n",
      "  File \"/Users/marcelonunesalves/opt/anaconda3/lib/python3.7/site-packages/tensorflow/__init__.py\", line 50, in __getattr__\n",
      "    module = self._load()\n",
      "  File \"/Users/marcelonunesalves/opt/anaconda3/lib/python3.7/site-packages/tensorflow/__init__.py\", line 44, in _load\n",
      "    module = _importlib.import_module(self.__name__)\n",
      "  File \"/Users/marcelonunesalves/opt/anaconda3/lib/python3.7/importlib/__init__.py\", line 127, in import_module\n",
      "    return _bootstrap._gcd_import(name[level:], package, level)\n",
      "  File \"/Users/marcelonunesalves/opt/anaconda3/lib/python3.7/site-packages/tensorflow_core/python/__init__.py\", line 49, in <module>\n",
      "    from tensorflow.python import pywrap_tensorflow\n",
      "  File \"/Users/marcelonunesalves/opt/anaconda3/lib/python3.7/site-packages/tensorflow_core/python/pywrap_tensorflow.py\", line 74, in <module>\n",
      "    raise ImportError(msg)\n",
      "ImportError: Traceback (most recent call last):\n",
      "  File \"/Users/marcelonunesalves/opt/anaconda3/lib/python3.7/site-packages/IPython/core/interactiveshell.py\", line 3326, in run_code\n",
      "    exec(code_obj, self.user_global_ns, self.user_ns)\n",
      "  File \"<ipython-input-24-1752ec116f0b>\", line 7, in <module>\n",
      "    x = tf.cast(x, tf.float64)\n",
      "AttributeError: module 'tensorflow' has no attribute 'cast'\n",
      "\n",
      "During handling of the above exception, another exception occurred:\n",
      "\n",
      "Traceback (most recent call last):\n",
      "  File \"/Users/marcelonunesalves/opt/anaconda3/lib/python3.7/site-packages/IPython/core/interactiveshell.py\", line 2040, in showtraceback\n",
      "    stb = value._render_traceback_()\n",
      "AttributeError: 'AttributeError' object has no attribute '_render_traceback_'\n",
      "\n",
      "During handling of the above exception, another exception occurred:\n",
      "\n",
      "Traceback (most recent call last):\n",
      "  File \"/Users/marcelonunesalves/opt/anaconda3/lib/python3.7/site-packages/tensorflow_core/python/pywrap_tensorflow_internal.py\", line 18, in swig_import_helper\n",
      "    fp, pathname, description = imp.find_module('_pywrap_tensorflow_internal', [dirname(__file__)])\n",
      "  File \"/Users/marcelonunesalves/opt/anaconda3/lib/python3.7/imp.py\", line 296, in find_module\n",
      "    raise ImportError(_ERR_MSG.format(name), name=name)\n",
      "ImportError: No module named '_pywrap_tensorflow_internal'\n",
      "\n",
      "During handling of the above exception, another exception occurred:\n",
      "\n",
      "Traceback (most recent call last):\n",
      "  File \"/Users/marcelonunesalves/opt/anaconda3/lib/python3.7/site-packages/tensorflow_core/python/pywrap_tensorflow.py\", line 58, in <module>\n",
      "    from tensorflow.python.pywrap_tensorflow_internal import *\n",
      "  File \"/Users/marcelonunesalves/opt/anaconda3/lib/python3.7/site-packages/tensorflow_core/python/pywrap_tensorflow_internal.py\", line 28, in <module>\n",
      "    _pywrap_tensorflow_internal = swig_import_helper()\n",
      "  File \"/Users/marcelonunesalves/opt/anaconda3/lib/python3.7/site-packages/tensorflow_core/python/pywrap_tensorflow_internal.py\", line 20, in swig_import_helper\n",
      "    import _pywrap_tensorflow_internal\n",
      "ModuleNotFoundError: No module named '_pywrap_tensorflow_internal'\n",
      "\n",
      "\n",
      "Failed to load the native TensorFlow runtime.\n",
      "\n",
      "See https://www.tensorflow.org/install/errors\n",
      "\n",
      "for some common reasons and solutions.  Include the entire stack trace\n",
      "above this error message when asking for help.\n"
     ]
    },
    {
     "ename": "AttributeError",
     "evalue": "module 'tensorflow' has no attribute 'cast'",
     "output_type": "error",
     "traceback": [
      "\u001b[0;31m---------------------------------------------------------------------------\u001b[0m"
     ]
    }
   ],
   "source": [
    "# Solução\n",
    "\n",
    "import tensorflow as tf\n",
    "\n",
    "x = [[2,3],[4,5]]\n",
    "\n",
    "x = tf.cast(x, tf.float64)\n",
    "x_i = tf.linalg.inv(x)\n",
    "\n",
    "print(\"\\nSolução 1:\", x_i)\n"
   ]
  },
  {
   "cell_type": "markdown",
   "metadata": {},
   "source": [
    "### Exercício 9 (Desafio) - Crie um algoritmo de Machine Learning de Regressão Linear Simples, usando NumPy, que mostre a relação entre duas variáveis x e y (que são criadas abaixo usando valores aleatórios). Seu script deve conter as operações matemáticas de multiplicação de matrizes estudadas neste capítulo.\n",
    "\n",
    "Dica: Deixamos algumas linhas de código para ajudá-lo nesta tarefa."
   ]
  },
  {
   "cell_type": "code",
   "execution_count": 25,
   "metadata": {},
   "outputs": [
    {
     "name": "stdout",
     "output_type": "stream",
     "text": [
      "(200,)\n",
      "(200,)\n"
     ]
    },
    {
     "data": {
      "text/plain": [
       "<matplotlib.legend.Legend at 0x7ff8172c6810>"
      ]
     },
     "execution_count": 25,
     "metadata": {},
     "output_type": "execute_result"
    },
    {
     "data": {
      "image/png": "[encoded data removed]",
      "text/plain": [
       "<Figure size 432x288 with 1 Axes>"
      ]
     },
     "metadata": {
      "needs_background": "light"
     },
     "output_type": "display_data"
    }
   ],
   "source": [
    "# Solução\n",
    "\n",
    "# Imports\n",
    "import numpy as np\n",
    "%matplotlib inline\n",
    "import matplotlib.pyplot as plt\n",
    "import warnings\n",
    "warnings.filterwarnings('ignore')\n",
    "\n",
    "# Variáveis x e y\n",
    "num_points = 200\n",
    "X_entrada = np.linspace(-2, 2, num_points)\n",
    "y_saida = X_entrada + np.random.normal(0, 1, num_points)\n",
    "\n",
    "# Print shapes\n",
    "print(np.shape(X_entrada))\n",
    "print(np.shape(y_saida))\n",
    "\n",
    "# Plot\n",
    "plt.plot(X_entrada, y_saida, 'r*', label='Dados')\n",
    "plt.legend(loc=\"upper left\", bbox_to_anchor=(1,1))"
   ]
  },
  {
   "cell_type": "code",
   "execution_count": 26,
   "metadata": {},
   "outputs": [
    {
     "data": {
      "text/plain": [
       "array([-2.        , -1.9798995 , -1.95979899, -1.93969849, -1.91959799,\n",
       "       -1.89949749, -1.87939698, -1.85929648, -1.83919598, -1.81909548,\n",
       "       -1.79899497, -1.77889447, -1.75879397, -1.73869347, -1.71859296,\n",
       "       -1.69849246, -1.67839196, -1.65829146, -1.63819095, -1.61809045,\n",
       "       -1.59798995, -1.57788945, -1.55778894, -1.53768844, -1.51758794,\n",
       "       -1.49748744, -1.47738693, -1.45728643, -1.43718593, -1.41708543,\n",
       "       -1.39698492, -1.37688442, -1.35678392, -1.33668342, -1.31658291,\n",
       "       -1.29648241, -1.27638191, -1.25628141, -1.2361809 , -1.2160804 ,\n",
       "       -1.1959799 , -1.1758794 , -1.15577889, -1.13567839, -1.11557789,\n",
       "       -1.09547739, -1.07537688, -1.05527638, -1.03517588, -1.01507538,\n",
       "       -0.99497487, -0.97487437, -0.95477387, -0.93467337, -0.91457286,\n",
       "       -0.89447236, -0.87437186, -0.85427136, -0.83417085, -0.81407035,\n",
       "       -0.79396985, -0.77386935, -0.75376884, -0.73366834, -0.71356784,\n",
       "       -0.69346734, -0.67336683, -0.65326633, -0.63316583, -0.61306533,\n",
       "       -0.59296482, -0.57286432, -0.55276382, -0.53266332, -0.51256281,\n",
       "       -0.49246231, -0.47236181, -0.45226131, -0.4321608 , -0.4120603 ,\n",
       "       -0.3919598 , -0.3718593 , -0.35175879, -0.33165829, -0.31155779,\n",
       "       -0.29145729, -0.27135678, -0.25125628, -0.23115578, -0.21105528,\n",
       "       -0.19095477, -0.17085427, -0.15075377, -0.13065327, -0.11055276,\n",
       "       -0.09045226, -0.07035176, -0.05025126, -0.03015075, -0.01005025,\n",
       "        0.01005025,  0.03015075,  0.05025126,  0.07035176,  0.09045226,\n",
       "        0.11055276,  0.13065327,  0.15075377,  0.17085427,  0.19095477,\n",
       "        0.21105528,  0.23115578,  0.25125628,  0.27135678,  0.29145729,\n",
       "        0.31155779,  0.33165829,  0.35175879,  0.3718593 ,  0.3919598 ,\n",
       "        0.4120603 ,  0.4321608 ,  0.45226131,  0.47236181,  0.49246231,\n",
       "        0.51256281,  0.53266332,  0.55276382,  0.57286432,  0.59296482,\n",
       "        0.61306533,  0.63316583,  0.65326633,  0.67336683,  0.69346734,\n",
       "        0.71356784,  0.73366834,  0.75376884,  0.77386935,  0.79396985,\n",
       "        0.81407035,  0.83417085,  0.85427136,  0.87437186,  0.89447236,\n",
       "        0.91457286,  0.93467337,  0.95477387,  0.97487437,  0.99497487,\n",
       "        1.01507538,  1.03517588,  1.05527638,  1.07537688,  1.09547739,\n",
       "        1.11557789,  1.13567839,  1.15577889,  1.1758794 ,  1.1959799 ,\n",
       "        1.2160804 ,  1.2361809 ,  1.25628141,  1.27638191,  1.29648241,\n",
       "        1.31658291,  1.33668342,  1.35678392,  1.37688442,  1.39698492,\n",
       "        1.41708543,  1.43718593,  1.45728643,  1.47738693,  1.49748744,\n",
       "        1.51758794,  1.53768844,  1.55778894,  1.57788945,  1.59798995,\n",
       "        1.61809045,  1.63819095,  1.65829146,  1.67839196,  1.69849246,\n",
       "        1.71859296,  1.73869347,  1.75879397,  1.77889447,  1.79899497,\n",
       "        1.81909548,  1.83919598,  1.85929648,  1.87939698,  1.89949749,\n",
       "        1.91959799,  1.93969849,  1.95979899,  1.9798995 ,  2.        ])"
      ]
     },
     "execution_count": 26,
     "metadata": {},
     "output_type": "execute_result"
    }
   ],
   "source": [
    "X_entrada"
   ]
  },
  {
   "cell_type": "code",
   "execution_count": 27,
   "metadata": {},
   "outputs": [
    {
     "data": {
      "text/plain": [
       "array([ 1.12656512e+00, -2.03468614e+00, -7.54432926e-01, -1.70112792e+00,\n",
       "       -2.44927263e+00,  7.79535489e-01, -1.69188827e+00, -2.89866603e+00,\n",
       "       -2.88962122e+00, -5.23636470e-01, -3.13621314e+00, -1.40100379e+00,\n",
       "       -8.72034253e-01, -1.54076652e+00, -2.08969603e+00, -3.36277060e+00,\n",
       "       -9.68015284e-01, -2.67722208e+00, -2.04200073e+00, -6.67246977e-01,\n",
       "       -2.05221142e+00, -1.07843047e+00, -2.02975750e+00, -2.29376737e+00,\n",
       "       -1.13845170e+00, -2.84694968e+00, -3.02434363e+00, -2.08088153e+00,\n",
       "       -1.56576044e+00, -1.42953110e+00, -1.09624762e+00, -1.46688058e+00,\n",
       "        1.29007867e+00, -1.60399541e+00, -3.20908514e+00, -6.26383792e-01,\n",
       "       -2.77832141e+00, -1.24556072e+00, -6.23836297e-01,  6.26130759e-01,\n",
       "       -1.99326207e-01, -2.11208715e-01, -1.59705419e+00, -1.00200383e+00,\n",
       "        8.38911417e-01, -1.61623999e+00, -1.71552581e-01,  3.59667558e-02,\n",
       "       -1.01849673e-01, -4.30162838e-01, -3.80753404e-01, -1.58590032e+00,\n",
       "       -5.85145647e-01, -5.32410910e-01, -1.20629913e-02, -1.21829894e+00,\n",
       "        1.67501109e+00,  5.15403383e-01, -2.34580809e-01, -1.01172744e+00,\n",
       "       -4.71398500e-01, -1.12045940e+00, -1.21984397e+00,  7.86271992e-01,\n",
       "       -1.28189940e+00, -2.42296456e+00,  1.68683365e-01, -5.20764506e-01,\n",
       "       -1.05952979e+00, -1.61277524e+00, -1.93861423e+00, -3.23666105e-01,\n",
       "       -1.80641495e+00,  6.26932420e-01, -3.68184868e-01,  1.43119483e+00,\n",
       "       -1.62166571e+00, -1.08071844e+00, -8.11331197e-01, -6.31965113e-02,\n",
       "       -5.07148407e-01,  2.21761600e-01, -1.15313905e+00,  4.97301312e-01,\n",
       "        4.54404398e-01, -1.10474830e+00, -4.59650194e-01,  8.03605751e-01,\n",
       "       -1.24892522e+00, -3.15391848e-01,  2.05828612e-01,  4.93464910e-01,\n",
       "        4.92018219e-01,  1.28134405e+00, -1.33908559e+00, -2.01530976e+00,\n",
       "       -2.11573748e-01, -2.08722822e+00,  1.16084786e+00,  9.75869960e-01,\n",
       "        6.69396997e-01,  3.48438112e-01, -9.83155481e-01, -2.67675195e-01,\n",
       "        1.14040210e+00,  1.03397962e+00,  2.02415298e-01,  1.03906626e+00,\n",
       "        1.75849595e+00, -2.35067984e+00,  4.56380279e-01, -2.88519331e-01,\n",
       "        1.57073723e+00,  1.98902933e-01,  1.25443221e+00,  2.17753999e-01,\n",
       "       -1.24244525e+00,  6.56087099e-04, -1.03677175e+00,  1.38350876e+00,\n",
       "       -3.04439208e-01,  2.44393899e+00,  9.51314124e-01,  4.97815052e-02,\n",
       "        9.24359346e-01,  1.27152860e+00,  9.70478195e-01,  1.95698874e+00,\n",
       "        1.18524522e-01,  5.30313795e-03,  9.77204923e-01, -8.84294376e-01,\n",
       "        7.08347245e-01, -1.45438684e-01,  2.74334750e+00, -4.04538798e-01,\n",
       "        2.81204663e+00,  1.43117259e+00,  1.84352551e+00,  2.01189555e+00,\n",
       "        1.26463858e+00,  1.70711679e+00,  1.55357665e+00,  1.96845157e+00,\n",
       "       -4.27112288e-01,  1.97675203e+00,  1.35543070e+00,  7.38237429e-01,\n",
       "        1.68492512e+00,  3.99231719e-01,  7.86365162e-02,  8.52945243e-01,\n",
       "        1.76139993e+00,  1.19817901e+00,  1.79145093e+00,  1.50770379e+00,\n",
       "        2.68967881e-01,  2.05119000e+00,  1.11416259e+00,  5.04804469e-01,\n",
       "        1.59833495e-01,  2.00445836e+00,  2.79961471e+00,  2.42258237e-01,\n",
       "        2.72246131e+00,  2.11497766e+00,  1.73849033e+00,  2.69452027e+00,\n",
       "        5.84213810e-01, -6.56748110e-02,  4.10757919e-01,  1.31479028e+00,\n",
       "        3.26481802e-01,  1.60829682e+00, -4.10420728e-02,  1.08117673e+00,\n",
       "        4.00946579e+00,  1.86717599e+00,  1.68730044e+00,  1.33863861e+00,\n",
       "        3.07570000e-01,  6.54894651e-01,  5.94445828e-01,  2.31723760e-02,\n",
       "        4.07430921e+00,  4.29837205e-01,  2.34714496e+00,  1.05476367e+00,\n",
       "        2.41022339e+00,  1.63721076e+00,  2.27728535e+00,  2.46656092e+00,\n",
       "        3.20810698e+00,  3.22159671e+00,  1.01705510e+00,  2.19116776e+00,\n",
       "        1.60063309e+00,  2.46483478e+00,  3.88120556e+00,  3.06308939e+00])"
      ]
     },
     "execution_count": 27,
     "metadata": {},
     "output_type": "execute_result"
    }
   ],
   "source": [
    "y_saida"
   ]
  },
  {
   "cell_type": "code",
   "execution_count": 28,
   "metadata": {},
   "outputs": [
    {
     "name": "stdout",
     "output_type": "stream",
     "text": [
      "(200, 2)\n",
      "(200, 1)\n",
      "(2, 2)\n",
      "(2, 1)\n",
      "\n",
      "Coeficientes da Regressão:\n",
      "[[0.992369180477136], [0.13500443007227644]]\n",
      "[-1.84973393 -1.82978681 -1.80983969 -1.78989257 -1.76994545 -1.74999833\n",
      " -1.73005122 -1.7101041  -1.69015698 -1.67020986 -1.65026274 -1.63031562\n",
      " -1.6103685  -1.59042138 -1.57047426 -1.55052714 -1.53058002 -1.5106329\n",
      " -1.49068579 -1.47073867 -1.45079155 -1.43084443 -1.41089731 -1.39095019\n",
      " -1.37100307 -1.35105595 -1.33110883 -1.31116171 -1.29121459 -1.27126747\n",
      " -1.25132035 -1.23137324 -1.21142612 -1.191479   -1.17153188 -1.15158476\n",
      " -1.13163764 -1.11169052 -1.0917434  -1.07179628 -1.05184916 -1.03190204\n",
      " -1.01195492 -0.99200781 -0.97206069 -0.95211357 -0.93216645 -0.91221933\n",
      " -0.89227221 -0.87232509 -0.85237797 -0.83243085 -0.81248373 -0.79253661\n",
      " -0.77258949 -0.75264237 -0.73269526 -0.71274814 -0.69280102 -0.6728539\n",
      " -0.65290678 -0.63295966 -0.61301254 -0.59306542 -0.5731183  -0.55317118\n",
      " -0.53322406 -0.51327694 -0.49332982 -0.47338271 -0.45343559 -0.43348847\n",
      " -0.41354135 -0.39359423 -0.37364711 -0.35369999 -0.33375287 -0.31380575\n",
      " -0.29385863 -0.27391151 -0.25396439 -0.23401728 -0.21407016 -0.19412304\n",
      " -0.17417592 -0.1542288  -0.13428168 -0.11433456 -0.09438744 -0.07444032\n",
      " -0.0544932  -0.03454608 -0.01459896  0.00534816  0.02529527  0.04524239\n",
      "  0.06518951  0.08513663  0.10508375  0.12503087  0.14497799  0.16492511\n",
      "  0.18487223  0.20481935  0.22476647  0.24471359  0.2646607   0.28460782\n",
      "  0.30455494  0.32450206  0.34444918  0.3643963   0.38434342  0.40429054\n",
      "  0.42423766  0.44418478  0.4641319   0.48407902  0.50402614  0.52397325\n",
      "  0.54392037  0.56386749  0.58381461  0.60376173  0.62370885  0.64365597\n",
      "  0.66360309  0.68355021  0.70349733  0.72344445  0.74339157  0.76333869\n",
      "  0.7832858   0.80323292  0.82318004  0.84312716  0.86307428  0.8830214\n",
      "  0.90296852  0.92291564  0.94286276  0.96280988  0.982757    1.00270412\n",
      "  1.02265123  1.04259835  1.06254547  1.08249259  1.10243971  1.12238683\n",
      "  1.14233395  1.16228107  1.18222819  1.20217531  1.22212243  1.24206955\n",
      "  1.26201667  1.28196378  1.3019109   1.32185802  1.34180514  1.36175226\n",
      "  1.38169938  1.4016465   1.42159362  1.44154074  1.46148786  1.48143498\n",
      "  1.5013821   1.52132921  1.54127633  1.56122345  1.58117057  1.60111769\n",
      "  1.62106481  1.64101193  1.66095905  1.68090617  1.70085329  1.72080041\n",
      "  1.74074753  1.76069465  1.78064176  1.80058888  1.820536    1.84048312\n",
      "  1.86043024  1.88037736  1.90032448  1.9202716   1.94021872  1.96016584\n",
      "  1.98011296  2.00006008  2.02000719  2.03995431  2.05990143  2.07984855\n",
      "  2.09979567  2.11974279]\n"
     ]
    },
    {
     "data": {
      "text/plain": [
       "<matplotlib.legend.Legend at 0x7ff81755e310>"
      ]
     },
     "execution_count": 28,
     "metadata": {},
     "output_type": "execute_result"
    },
    {
     "data": {
      "image/png": "[encoded data removed]",
      "text/plain": [
       "<Figure size 432x288 with 1 Axes>"
      ]
     },
     "metadata": {
      "needs_background": "light"
     },
     "output_type": "display_data"
    }
   ],
   "source": [
    "# Algoritmo\n",
    "\n",
    "# Matriz de 1s para servir como as previsões\n",
    "ones = np.ones(num_points)\n",
    "\n",
    "# Convertendo as variáveis para matrizes NumPy\n",
    "X_matrix = np.matrix(np.column_stack((X_entrada, ones)))  # Matriz aumentada (explicada nas aulas)\n",
    "y_matrix = np.transpose(np.matrix(y_saida))\n",
    "\n",
    "# Print shapes\n",
    "print(np.shape(X_matrix))\n",
    "print(np.shape(y_matrix))\n",
    "\n",
    "# Encontrando a transposta das matrizes e aplicando o dot product\n",
    "XtX = X_matrix.transpose().dot(X_matrix)\n",
    "Xty = X_matrix.transpose().dot(y_matrix)\n",
    "\n",
    "# Print shapes\n",
    "print(np.shape(XtX))\n",
    "print(np.shape(Xty))\n",
    "\n",
    "# Inversa\n",
    "solution = np.linalg.inv(XtX).dot(Xty).tolist()\n",
    "print(\"\\nCoeficientes da Regressão:\")\n",
    "print(solution)\n",
    "\n",
    "\n",
    "# Coeficientes\n",
    "w, b = solution\n",
    "\n",
    "# Previsões\n",
    "y_pred = w[0]*X_entrada + b[0]\n",
    "print(y_pred)\n",
    "\n",
    "# Plot\n",
    "plt.plot(X_entrada, y_saida, 'r*', label='Dados')\n",
    "plt.plot(X_entrada, y_pred, 'b', label='Linha de Regressão - Previsões NumPy')\n",
    "plt.legend(loc=\"upper left\", bbox_to_anchor=(1,1))"
   ]
  },
  {
   "cell_type": "markdown",
   "metadata": {},
   "source": [
    "### Exercício 10 (Super Desafio) - Mesmo exercício anterior, mas agora com o TensorFlow.\n",
    "\n",
    "Dica: Deixamos algumas linhas de código para ajudá-lo nesta tarefa."
   ]
  },
  {
   "cell_type": "code",
   "execution_count": null,
   "metadata": {},
   "outputs": [],
   "source": [
    "# Solução\n",
    "\n",
    "# Import\n",
    "import tensorflow as tf\n",
    "\n",
    "# Variáveis x e y\n",
    "num_points = 200\n",
    "X_entrada = np.linspace(-2, 2, num_points)\n",
    "y_saida = X_entrada + np.random.normal(0, 1, num_points)\n",
    "\n",
    "# Matrizes (tensores com o TF)\n",
    "X_tensor = tf.constant(X_matrix)\n",
    "y_tensor = tf.constant(y_matrix)\n",
    "\n",
    "# Transposta\n",
    "\n",
    "\n",
    "# Solução\n",
    "\n",
    "\n",
    "# Abre a sessão TF\n",
    "\n",
    "\n",
    "# Encontra os coeficeintes\n",
    "w_tf, b_tf = soln_tf\n",
    "\n",
    "# Previsões\n",
    "y_pred_tf = w_tf[0]*X_entrada + b_tf[0]\n",
    "\n",
    "# Plot\n",
    "plt.plot(X_entrada, y_saida, 'r*', label='Dados')\n",
    "plt.plot(X_entrada, y_pred, 'b', label='Linha de Regressão - Previsões NumPy')\n",
    "plt.plot(X_entrada, y_pred_tf, 'g', label='Linha de Regressão - Previsões TF')\n",
    "plt.legend(loc=\"upper left\", bbox_to_anchor=(1,1))"
   ]
  },
  {
   "cell_type": "markdown",
   "metadata": {},
   "source": [
    "## Fim"
   ]
  }
 ],
 "metadata": {
  "kernelspec": {
   "display_name": "Python 3",
   "language": "python",
   "name": "python3"
  },
  "language_info": {
   "codemirror_mode": {
    "name": "ipython",
    "version": 3
   },
   "file_extension": ".py",
   "mimetype": "text/x-python",
   "name": "python",
   "nbconvert_exporter": "python",
   "pygments_lexer": "ipython3",
   "version": "3.7.4"
  }
 },
 "nbformat": 4,
 "nbformat_minor": 2
}
