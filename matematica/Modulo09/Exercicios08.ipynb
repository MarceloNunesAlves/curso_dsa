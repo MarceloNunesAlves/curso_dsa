{
 "cells": [
  {
   "cell_type": "markdown",
   "metadata": {},
   "source": [
    "# <font color='blue'>Data Science Academy</font>\n",
    "# <font color='blue'>Matemática Para Machine Learning</font>"
   ]
  },
  {
   "cell_type": "markdown",
   "metadata": {},
   "source": [
    "## Lista de Exercícios  - Capítulo 9"
   ]
  },
  {
   "cell_type": "markdown",
   "metadata": {},
   "source": [
    "O objetivo desta lista de exercícios é você praticar os principais conceitos estudados neste capítulo, ao mesmo tempo que desenvolve suas habilidades em lógica de programação com a linguagem Python. \n",
    "\n",
    "Caso tenha dúvidas, isso é absolutamente normal e faça um trabalho de pesquisa a fim de relembrar o formato das operações matemáticas.\n",
    "\n",
    "Quando encontrar o formato de uma operação que resolva o exercício proposto, use a linguagem Python para representar esta operação. Em essência, é assim que aplicamos Matemática Para Machine Learning, construindo algoritmos e representando esses algoritmos em linguagem de programação."
   ]
  },
  {
   "cell_type": "markdown",
   "metadata": {},
   "source": [
    "Divirta-se!!"
   ]
  },
  {
   "cell_type": "markdown",
   "metadata": {},
   "source": [
    "## Cálculo Diferencial\n",
    "\n",
    "Você pode usar métodos algébricos para calcular a taxa de mudança ao longo de um intervalo de função unindo dois pontos na função com uma linha e medindo sua inclinação. Por exemplo, uma função pode retornar a distância percorrida por um ciclista em um período de tempo, e você pode usar uma linha para medir a velocidade média entre dois pontos no tempo. No entanto, isso não diz a vecolidade do ciclista em um único ponto no tempo - apenas a velocidade média ao longo de um intervalo.\n",
    "\n",
    "Para encontrar a velocidade do ciclista em um ponto específico no tempo, você precisa encontrar a inclinação de uma curva em um determinado ponto. * Cálculo Diferencial * nos permite fazer isso através do uso de * derivadas *. Podemos usar derivadas para encontrar a inclinação em um valor específico * x * calculando um delta para valores de * x <sub> 1 </sub> * e * x <sub> 2 </sub> * que são infinitesimamente próximos - então você pode pensar nisso como medir a inclinação de uma pequena linha reta que compreende parte da curva.\n",
    "\n",
    "## Introdução aos Limites\n",
    "\n",
    "No entanto, antes de podermos pular direto para as derivadas (assunto do próximo capítulo), precisamos examinar outro aspecto do cálculo diferencial - o * limite * de uma função; o que nos ajuda a medir como o valor de uma função muda à medida que o valor * x <sub> 2 </sub> * se aproxima de * x <sub> 1 </sub> *\n",
    "\n",
    "Para entender melhor os limites, vamos observar mais de perto uma função e observar que, embora representemos a função como uma linha, ela é, na verdade, composta de pontos individuais. Execute a seguinte célula para mostrar os pontos que plotamos para valores inteiros de *** x *** - a linha é criada interpolando os pontos:"
   ]
  },
  {
   "cell_type": "code",
   "execution_count": null,
   "metadata": {},
   "outputs": [],
   "source": [
    "import matplotlib.pyplot as plt\n",
    "%matplotlib inline\n",
    "\n",
    "# Função\n",
    "def f(x):\n",
    "    return x**2 + x\n",
    "\n",
    "# Cria uma lista de valores x de 0 a 10 para o plot\n",
    "x = list(range(0, 11))\n",
    "\n",
    "# Obtém os valores y correspondentes da função\n",
    "y = [f(i) for i in x] \n",
    "\n",
    "# Configura o gráfico\n",
    "plt.xlabel('x')\n",
    "plt.ylabel('f(x)')\n",
    "plt.grid()\n",
    "\n",
    "# Plot da função\n",
    "plt.plot(x,y, color='lightgrey', marker='o', markeredgecolor='green', markerfacecolor='green')\n",
    "\n",
    "plt.show()"
   ]
  },
  {
   "cell_type": "markdown",
   "metadata": {},
   "source": [
    "Sabemos a partir da função que os valores de *** f (x) *** são calculados calculando o quadrado do valor *** x *** e adicionando *** x ***. Para que possamos calcular facilmente os pontos e mostrá-los - execute o seguinte código:"
   ]
  },
  {
   "cell_type": "code",
   "execution_count": null,
   "metadata": {},
   "outputs": [],
   "source": [
    "import matplotlib.pyplot as plt\n",
    "%matplotlib inline\n",
    "\n",
    "# Função\n",
    "def f(x):\n",
    "    return x**2 + x\n",
    "\n",
    "# Cria uma lista de valores x de 0 a 10 para o plot\n",
    "x = list(range(0,5))\n",
    "x.append(4.25)\n",
    "x.append(4.5)\n",
    "x.append(4.75)\n",
    "x.append(5)\n",
    "x.append(5.25)\n",
    "x.append(5.5)\n",
    "x.append(5.75)\n",
    "x = x + list(range(6,11))\n",
    "\n",
    "# Obtém os valores y correspondentes da função\n",
    "y = [f(i) for i in x] \n",
    "\n",
    "# Configura o gráfico\n",
    "plt.xlabel('x')\n",
    "plt.ylabel('f(x)')\n",
    "plt.grid()\n",
    "\n",
    "# Plot da função\n",
    "plt.plot(x,y, color='lightgrey', marker='o', markeredgecolor='green', markerfacecolor='green')\n",
    "\n",
    "plt.show()"
   ]
  },
  {
   "cell_type": "markdown",
   "metadata": {},
   "source": [
    "Agora podemos ver mais claramente que esta linha de função é formada por uma série contínua de pontos, então, teoricamente, para qualquer valor dado de *** x *** há um ponto na linha, e há um ponto adjacente em ambos os lados com um valor que é o mais próximo possível de *** x ***, mas na verdade não *** x ***.\n",
    "\n",
    "Execute o seguinte código para visualizar um ponto específico para * x = 5 * e tente identificar o ponto mais próximo de cada lado:"
   ]
  },
  {
   "cell_type": "code",
   "execution_count": null,
   "metadata": {},
   "outputs": [],
   "source": [
    "import matplotlib.pyplot as plt\n",
    "%matplotlib inline\n",
    "\n",
    "# Função\n",
    "def f(x):\n",
    "    return x**2 + x\n",
    "\n",
    "# Cria uma lista de valores x de 0 a 10 para o plot\n",
    "x = list(range(0,5))\n",
    "x.append(4.25)\n",
    "x.append(4.5)\n",
    "x.append(4.75)\n",
    "x.append(5)\n",
    "x.append(5.25)\n",
    "x.append(5.5)\n",
    "x.append(5.75)\n",
    "x = x + list(range(6,11))\n",
    "\n",
    "# Obtém os valores y correspondentes da função\n",
    "y = [f(i) for i in x] \n",
    "\n",
    "# Configura o gráfico\n",
    "plt.xlabel('x')\n",
    "plt.ylabel('f(x)')\n",
    "plt.grid()\n",
    "\n",
    "# Plot da função\n",
    "plt.plot(x,y, color='lightgrey', marker='o', markeredgecolor='green', markerfacecolor='green')\n",
    "\n",
    "zx = 5\n",
    "zy = f(zx)\n",
    "plt.plot(zx, zy, color='red', marker='o', markersize=10)\n",
    "plt.annotate('x=' + str(zx),(zx, zy), xytext=(zx - 0.5, zy + 5))\n",
    "\n",
    "# Plot f(x) quando x = 5.1\n",
    "posx = 5.25\n",
    "posy = f(posx)\n",
    "plt.plot(posx, posy, color='blue', marker='<', markersize=10)\n",
    "plt.annotate('x=' + str(posx),(posx, posy), xytext=(posx + 0.5, posy - 1))\n",
    "\n",
    "# Plot f(x) quando x = 4.9\n",
    "negx = 4.75\n",
    "negy = f(negx)\n",
    "plt.plot(negx, negy, color='orange', marker='>', markersize=10)\n",
    "plt.annotate('x=' + str(negx),(negx, negy), xytext=(negx - 1.5, negy - 1))\n",
    "\n",
    "plt.show()"
   ]
  },
  {
   "cell_type": "markdown",
   "metadata": {},
   "source": [
    "Você pode ver o ponto onde *** x *** é 5, e você pode ver que há pontos mostrados no gráfico que parecem estar bem próximos a este ponto (em * x = 4.75 * e * x = 5.25 * ). No entanto, se aumentássemos o zoom, veríamos que ainda existem lacunas que poderiam ser preenchidas por outros valores de *** x *** que estão ainda mais próximos de 5; por exemplo, 4.9 e 5.1, ou 4.999 e 5.001. Se pudéssemos fazer zoom infinitamente próximo à linha, veríamos que não importa o quão próximo um valor você usasse (por exemplo, 4.999999999999), sempre há um valor que é um pouco mais próximo (por exemplo, 4.9999999999999).\n",
    "\n",
    "Então, o que podemos dizer é que existe um número hipotético que é o mais próximo possível do nosso valor desejado de * x * sem realmente ser * x *, mas não podemos expressá-lo como um número real. Em vez disso, expressamos simbolicamente como um * limite *, assim:\n",
    "\n",
    "\\begin{equation}\\lim_{x \\to 5} f(x)\\end{equation}\n",
    "\n",
    "Isso é interpretado como * o limite da função f (x) quando * x * se aproxima de 5 *."
   ]
  },
  {
   "cell_type": "markdown",
   "metadata": {},
   "source": [
    "## Limites e Continuidade\n",
    "\n",
    "A função *** f (x) *** é * contínua * para todos os valores reais numerados de *** x ***. Simplificando, isso significa que você pode desenhar a linha criada pela função sem levantar sua caneta.\n",
    "\n",
    "No entanto, isso não é necessariamente verdade de todas as funções. Considere a função *** g (x) *** abaixo:\n",
    "\n",
    "\\begin{equation}g(x) = -(\\frac{12}{2x})^{2}\\end{equation}\n",
    "\n",
    "Esta função é um pouco mais complexa do que a anterior, mas a principal coisa a observar é que ela requer uma divisão por * 2x *. Agora, pergunte a si mesmo; o que aconteceria se você aplicasse essa função a um valor * x * de ** 0 **?\n",
    "\n",
    "Qualquer coisa dividida por 0 é * indefinida *. Portanto, o * domínio * desta função não inclui 0; em outras palavras, a função é definida quando * x * é qualquer número real tal que * x não é igual a 0 *. A função deve, portanto, ser escrita assim:\n",
    "\n",
    "\\begin{equation}g(x) = -(\\frac{12}{2x})^{2},\\;\\; x \\ne 0\\end{equation}\n",
    "\n",
    "Então, por que isto é importante? Vamos investigar executando o seguinte código Python para definir a função e plotá-la para um conjunto arbitrário de valores:"
   ]
  },
  {
   "cell_type": "code",
   "execution_count": null,
   "metadata": {},
   "outputs": [],
   "source": [
    "import matplotlib.pyplot as plt\n",
    "%matplotlib inline\n",
    "\n",
    "# Função\n",
    "def g(x):\n",
    "    if x != 0:\n",
    "        return -(12/(2*x))**2\n",
    "    \n",
    "\n",
    "# Cria uma lista de valores x\n",
    "x = range(-20, 21)\n",
    "\n",
    "# Obtém os valores y correspondentes da função\n",
    "y = [g(a) for a in x]\n",
    "\n",
    "# Configura o gráfico\n",
    "plt.xlabel('x')\n",
    "plt.ylabel('g(x)')\n",
    "plt.grid()\n",
    "\n",
    "# Plot x contra g (x)\n",
    "plt.plot(x,y, color='green')\n",
    "\n",
    "plt.show()"
   ]
  },
  {
   "cell_type": "markdown",
   "metadata": {},
   "source": [
    "Olhe atentamente para o plot, e observe a lacuna da linha onde * x * = 0. Isso indica que a função não está definida aqui. O * domínio * da função (o conjunto de possíveis valores de entrada) não inclui 0, e o * range * (o conjunto de possíveis valores de saída) não inclui um valor para x = 0.\n",
    "\n",
    "Esta é uma função * não-contínua * - em outras palavras, inclui pelo menos uma lacuna quando plotada (para que você não possa plotar manualmente sem levantar a caneta). Especificamente, a função é não contínua em x = 0.\n",
    "\n",
    "Por convenção, quando uma função não contínua é plotada, os pontos que formam uma linha contínua (ou * intervalo *) são mostrados como uma linha, e o final de cada linha onde há uma descontinuidade é mostrado como um círculo, que é preenchido se o valor nesse ponto estiver incluído na linha e vazio se o valor não estiver incluído na linha.\n",
    "\n",
    "Neste caso, a função produz dois intervalos com uma lacuna entre eles onde a função não está definida, então podemos mostrar o ponto descontínuo como um círculo não preenchido - execute o seguinte código para visualizar isso com o Python:"
   ]
  },
  {
   "cell_type": "code",
   "execution_count": null,
   "metadata": {},
   "outputs": [],
   "source": [
    "import matplotlib.pyplot as plt\n",
    "%matplotlib inline\n",
    "\n",
    "\n",
    "# Função\n",
    "def g(x):\n",
    "    if x != 0:\n",
    "        return -(12/(2*x))**2\n",
    "\n",
    "# Cria uma lista de valores x\n",
    "x = range(-20, 21)\n",
    "\n",
    "# Obtém os valores y correspondentes da função\n",
    "y = [g(a) for a in x]\n",
    "\n",
    "# Configura o gráfico\n",
    "plt.xlabel('x')\n",
    "plt.ylabel('g(x)')\n",
    "plt.grid()\n",
    "\n",
    "# Plot x contra g (x)\n",
    "plt.plot(x,y, color='green')\n",
    "\n",
    "# Plot de um círculo no gap\n",
    "xy = (0,g(1))\n",
    "plt.annotate('O',xy, xytext=(-0.7, -37),fontsize=14,color='green')\n",
    "\n",
    "plt.show()"
   ]
  },
  {
   "cell_type": "markdown",
   "metadata": {},
   "source": [
    "Existem várias razões pelas quais uma função pode ser não contínua. Por exemplo, considere a seguinte função:\n",
    "\n",
    "\\begin{equation}h(x) = 2\\sqrt{x},\\;\\; x \\ge 0\\end{equation}\n",
    "\n",
    "A aplicação desta função a um valor *** x *** não negativo retorna uma saída válida; mas para qualquer valor em que *** x *** é negativo, a saída é indefinida, porque a raiz quadrada de um valor negativo não é um número real.\n",
    "\n",
    "Aqui está o código Python para plotar a função *** h ***:"
   ]
  },
  {
   "cell_type": "code",
   "execution_count": null,
   "metadata": {},
   "outputs": [],
   "source": [
    "import matplotlib.pyplot as plt\n",
    "%matplotlib inline\n",
    "\n",
    "# Função\n",
    "def h(x):\n",
    "    if x >= 0:\n",
    "        import numpy as np\n",
    "        return 2 * np.sqrt(x)\n",
    "\n",
    "# Cria uma lista de valores x\n",
    "x = range(-20, 21)\n",
    "\n",
    "# Obtém os valores y correspondentes da função\n",
    "y = [h(a) for a in x]\n",
    "\n",
    "# Configura o gráfico\n",
    "plt.xlabel('x')\n",
    "plt.ylabel('h(x)')\n",
    "plt.grid()\n",
    "\n",
    "# Plot x contra h(x)\n",
    "plt.plot(x,y, color='green')\n",
    "\n",
    "# Plot de um círculo perto o suficiente do limite h (-x) para nossos propósitos!\n",
    "plt.plot(0, h(0), color='green', marker='o', markerfacecolor='green', markersize=10)\n",
    "\n",
    "plt.show()"
   ]
  },
  {
   "cell_type": "markdown",
   "metadata": {},
   "source": [
    "Agora, suponha que tenhamos uma função assim:\n",
    "\n",
    "\\begin{equation}\n",
    "k(x) = \\begin{cases}\n",
    "  x + 20, & \\text{if } x \\le 0, \\\\\n",
    "  x - 100, & \\text{Ou então }\n",
    "\\end{cases}\n",
    "\\end{equation}\n",
    "\n",
    "Nesse caso, o domínio da função inclui todos os números reais, mas sua saída ainda não é contínua devido à maneira como valores diferentes são retornados, dependendo do valor de * x *. O * intervalo * de saídas possíveis para **k(x &le; 0)* é &le; 20, e o intervalo de valores de saída para * k (x> 0) * é x> -100.\n",
    "\n",
    "Vamos usar o Python para traçar a função *** k ***:"
   ]
  },
  {
   "cell_type": "code",
   "execution_count": null,
   "metadata": {},
   "outputs": [],
   "source": [
    "import matplotlib.pyplot as plt\n",
    "%matplotlib inline\n",
    "\n",
    "# Função\n",
    "def k(x):\n",
    "    import numpy as np\n",
    "    if x <= 0:\n",
    "        return x + 20\n",
    "    else:\n",
    "        return x - 100\n",
    "\n",
    "# Cria uma lista de valores x para cada intervalo não contínuo\n",
    "x1 = range(-20, 1)\n",
    "x2 = range(1, 20)\n",
    "\n",
    "# Obtém os valores y correspondentes da função\n",
    "y1 = [k(i) for i in x1]\n",
    "y2 = [k(i) for i in x2]\n",
    "\n",
    "# Configura o gráfico\n",
    "plt.xlabel('x')\n",
    "plt.ylabel('k(x)')\n",
    "plt.grid()\n",
    "\n",
    "# Plot x contra k(x)\n",
    "plt.plot(x1,y1, color='green')\n",
    "plt.plot(x2,y2, color='green')\n",
    "\n",
    "# Plot de um círculo onde termina o intervalo\n",
    "plt.plot(0, k(0), color='green', marker='o', markerfacecolor='green', markersize=10)\n",
    "plt.plot(0, k(0.0001), color='green', marker='o', markerfacecolor='w', markersize=10)\n",
    "\n",
    "plt.show()"
   ]
  },
  {
   "cell_type": "markdown",
   "metadata": {},
   "source": [
    "### Exercício 1 - Escreva uma função em Python que represente a função abaixo. Passe 2 valores como parâmetro e teste a função.\n",
    "\n",
    "$f(x) = x^3 - 5x^2 +9$"
   ]
  },
  {
   "cell_type": "code",
   "execution_count": null,
   "metadata": {},
   "outputs": [],
   "source": [
    "# Solução\n"
   ]
  },
  {
   "cell_type": "markdown",
   "metadata": {},
   "source": [
    "### Exercício 2 - Escreva uma função em Python que represente a função exponencial abaixo. Teste sua função.\n",
    "\n",
    "$exp(x) = e^x$\n",
    "domínio igual a $（-\\infty,\\infty)$,range igual a $(0,\\infty)$"
   ]
  },
  {
   "cell_type": "code",
   "execution_count": null,
   "metadata": {},
   "outputs": [],
   "source": [
    "# Solução\n"
   ]
  },
  {
   "cell_type": "markdown",
   "metadata": {},
   "source": [
    "### Exercício 3 - Coloque um único plot o resultado das 3 funções trigonométricas estudadas neste capítulo."
   ]
  },
  {
   "cell_type": "code",
   "execution_count": null,
   "metadata": {},
   "outputs": [],
   "source": [
    "# Solução\n"
   ]
  },
  {
   "cell_type": "markdown",
   "metadata": {},
   "source": [
    "### Exercício 4 - Considere as funções abaixo.  Represente-as em três funções Python distintas.\n",
    "\n",
    "$f(x) = x^2, g(x) = x^2 + x, h(x) = x^4 +2x^2\\cdot x + x^2$"
   ]
  },
  {
   "cell_type": "code",
   "execution_count": null,
   "metadata": {},
   "outputs": [],
   "source": [
    "# Solução\n"
   ]
  },
  {
   "cell_type": "markdown",
   "metadata": {},
   "source": [
    "### Exercício 5 - Crie um plot para mostrar o valor de retorno da função f quando x for igual a 0.\n",
    "\n",
    "\n",
    "\\begin{equation}f(x) = x^{2} + 1\\end{equation}\n"
   ]
  },
  {
   "cell_type": "code",
   "execution_count": null,
   "metadata": {},
   "outputs": [],
   "source": [
    "# Solução\n"
   ]
  },
  {
   "cell_type": "markdown",
   "metadata": {},
   "source": [
    "### Exercício 6 - O que acontece se usarmos valores x levemente maiores ou menores que 0? Crie um gráfico e descubra!\n",
    "\n",
    "\n",
    "\\begin{equation}f(x) = x^{2} + 1\\end{equation}\n"
   ]
  },
  {
   "cell_type": "markdown",
   "metadata": {},
   "source": [
    "Esses valores *** x *** retornam valores de *** f (x) *** que estão um pouco acima de 1, e se fôssemos continuar plotando números que estão cada vez mais próximos de 0, por exemplo, 0,0000000001 ou -0,0000000001, a função ainda retornaria um valor que é apenas ligeiramente maior que 1. O limite de função * f (x) * como * x * se aproxima de 0, é 1; e a notação para indicar isso é:\n",
    "\n",
    "\\begin{equation}\\lim_{x \\to 0} f(x) = 1 \\end{equation}\n",
    "\n",
    "Isso reflete uma definição mais formal de continuidade de função. Anteriormente, afirmamos que uma função é contínua em um ponto se você puder desenhá-la nesse ponto sem levantar sua caneta. A definição mais matemática é que uma função é contínua em um ponto se o limite da função à medida que se aproxima desse ponto de ambas as direções é igual ao valor da função naquele ponto. Neste caso, quando nos aproximamos de x = 0 de ambos os lados, o limite é 1; e o valor de * f (0) * também é 1; então a função é contínua em x = 0."
   ]
  },
  {
   "cell_type": "code",
   "execution_count": null,
   "metadata": {},
   "outputs": [],
   "source": [
    "# Solução\n"
   ]
  },
  {
   "cell_type": "markdown",
   "metadata": {},
   "source": [
    "### Exercício 7 - Implemente a função abaixo em Python e crie um plot para demonstrar o resultado da execução do seu programa.\n",
    "\n",
    "\\begin{equation}b(x) = -2x^{2} \\cdot \\frac{1}{x},\\;\\;x\\ne0\\end{equation}"
   ]
  },
  {
   "cell_type": "markdown",
   "metadata": {},
   "source": [
    "A saída desta função contém uma lacuna na linha onde x = 0. Parece que não apenas o * domínio * da função (os valores que podem ser passados como * x *) excluem 0; mas o * range * da função (o conjunto de valores que podem ser retornados a partir dele) também exclui 0."
   ]
  },
  {
   "cell_type": "code",
   "execution_count": null,
   "metadata": {},
   "outputs": [],
   "source": [
    "# Solução\n"
   ]
  },
  {
   "cell_type": "markdown",
   "metadata": {},
   "source": [
    "### Exercício 8 - No Exercício 7 não podemos avaliar a função para um valor * x * de 0, mas podemos ver o que ela retorna para um valor que é apenas um pouco menor que 0? Se a resposta for positiva, mostre isso em código Python."
   ]
  },
  {
   "cell_type": "code",
   "execution_count": null,
   "metadata": {},
   "outputs": [],
   "source": [
    "# Solução\n"
   ]
  },
  {
   "cell_type": "markdown",
   "metadata": {},
   "source": [
    "### Exercício 9 - Podemos tentar um valor negativo * x * que seja um pouco mais próximo de 0 considerando a função anterior? Como você explicaria isso? Justifique sua resposta e crie o código em Python. "
   ]
  },
  {
   "cell_type": "markdown",
   "metadata": {},
   "source": [
    "Como o valor de * x * se aproxima de 0 da esquerda (negativo), o valor de * b (x) * está diminuindo em direção a 0. Podemos mostrar isso com a seguinte notação:\n",
    "\n",
    "\\begin{equation}\\lim_{x \\to 0^{-}} b(x) = 0 \\end{equation}\n",
    "\n",
    "Observe que a seta aponta para 0 <sup> - </sup> (com um sinal de menos) para indicar que estamos descrevendo o limite à medida que nos aproximamos de 0 do lado negativo."
   ]
  },
  {
   "cell_type": "code",
   "execution_count": null,
   "metadata": {},
   "outputs": [],
   "source": [
    "# Solução\n"
   ]
  },
  {
   "cell_type": "markdown",
   "metadata": {},
   "source": [
    "## Encontrando Limites Utilizando uma Tabela\n",
    "\n",
    "Até agora, estimamos os limites de um ponto graficamente examinando um gráfico de uma função. Você também pode aproximar os limites criando uma tabela de valores x e os valores de função correspondentes de cada lado do ponto para o qual você deseja encontrar os limites.\n",
    "\n",
    "Por exemplo, vamos voltar para a nossa função *** f ***:\n",
    "\n",
    "\\begin{equation}f(x) = x^{2} + 1\\end{equation}\n",
    "\n",
    "Se quisermos encontrar os limites como x está se aproximando de 0, podemos aplicar a função a alguns valores de cada lado de 0 e visualizá-los como uma tabela. Consegue fazer isso em Python?"
   ]
  },
  {
   "cell_type": "markdown",
   "metadata": {},
   "source": [
    "### Exercício 10 - Crie uma tabela com os limites da função acima."
   ]
  },
  {
   "cell_type": "code",
   "execution_count": null,
   "metadata": {},
   "outputs": [],
   "source": [
    "# Solução\n"
   ]
  },
  {
   "cell_type": "markdown",
   "metadata": {},
   "source": [
    "Olhando para a saída, você pode ver que os valores da função estão se aproximando de 1 quando x se aproxima de 0 de ambos os lados, então:\n",
    "\n",
    "\\begin{equation}\\lim_{x \\to 0} f(x) = 1 \\end{equation}\n",
    "\n",
    "Além disso, você pode ver que o valor real da função quando x = 0 também é 1, portanto:\n",
    "\n",
    "\\begin{equation}\\lim_{x \\to 0} f(x) = f(0) \\end{equation}\n",
    "\n",
    "Que de acordo com nossa definição anterior, significa que a função é contínua em 0.\n",
    "\n",
    "No entanto, você deve ter cuidado para não assumir que o limite quando x está se aproximando de 0 será sempre o mesmo que o valor quando x = 0; mesmo quando a função é definida para x = 0.\n"
   ]
  },
  {
   "cell_type": "markdown",
   "metadata": {},
   "source": [
    "### Exercício 11 (Desafio) - Considere a seguinte função abaixo. Crie uma tabela com os limites da função.\n",
    "\n",
    "\\begin{equation}\n",
    "e(x) = \\begin{cases}\n",
    "  5, & \\text{if } x = 0, \\\\\n",
    "  1 + x^{2}, & \\text{ou então }\n",
    "\\end{cases}\n",
    "\\end{equation}"
   ]
  },
  {
   "cell_type": "code",
   "execution_count": null,
   "metadata": {},
   "outputs": [],
   "source": [
    "# Solução\n"
   ]
  },
  {
   "cell_type": "markdown",
   "metadata": {},
   "source": [
    "Como antes, você pode ver que, conforme os valores * x * se aproximam de 0 de ambos os lados, o valor da função se aproxima de 1, então:\n",
    "\n",
    "\\begin{equation}\\lim_{x \\to 0} e(x) = 1 \\end{equation}\n",
    "\n",
    "No entanto, o valor real da função quando x = 0 é 5, não 1; assim:\n",
    "\n",
    "\\begin{equation}\\lim_{x \\to 0} e(x) \\ne e(0) \\end{equation}\n",
    "\n",
    "Que de acordo com nossa definição anterior, significa que a função é não contínua em 0.\n",
    "\n",
    "Para encerrar, consegue representar isso em um gráfico? "
   ]
  },
  {
   "cell_type": "markdown",
   "metadata": {},
   "source": [
    "### Exercício 12 (Desafio Master) - Crie um gráfico que represente a tabela do exercício anterior."
   ]
  },
  {
   "cell_type": "code",
   "execution_count": null,
   "metadata": {},
   "outputs": [],
   "source": [
    "# Solução\n"
   ]
  },
  {
   "cell_type": "markdown",
   "metadata": {},
   "source": [
    "## Fim"
   ]
  }
 ],
 "metadata": {
  "kernelspec": {
   "display_name": "Python 3",
   "language": "python",
   "name": "python3"
  },
  "language_info": {
   "codemirror_mode": {
    "name": "ipython",
    "version": 3
   },
   "file_extension": ".py",
   "mimetype": "text/x-python",
   "name": "python",
   "nbconvert_exporter": "python",
   "pygments_lexer": "ipython3",
   "version": "3.6.5"
  }
 },
 "nbformat": 4,
 "nbformat_minor": 2
}
