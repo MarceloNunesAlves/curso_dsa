{
 "cells": [
  {
   "cell_type": "markdown",
   "metadata": {},
   "source": [
    "# <font color='blue'>Data Science Academy</font>\n",
    "# <font color='blue'>Matemática Para Machine Learning</font>"
   ]
  },
  {
   "cell_type": "markdown",
   "metadata": {},
   "source": [
    "## Lista de Exercícios  - Capítulo 7"
   ]
  },
  {
   "cell_type": "markdown",
   "metadata": {},
   "source": [
    "O objetivo desta lista de exercícios é você praticar os principais conceitos estudados neste capítulo, ao mesmo tempo que desenvolve suas habilidades em lógica de programação com a linguagem Python. \n",
    "\n",
    "Caso tenha dúvidas, isso é absolutamente normal e faça um trabalho de pesquisa a fim de relembrar o formato das operações matemáticas.\n",
    "\n",
    "Quando encontrar o formato de uma operação que resolva o exercício proposto, use a linguagem Python para representar esta operação. Em essência, é assim que aplicamos Matemática Para Machine Learning, construindo algoritmos e representando esses algoritmos em linguagem de programação."
   ]
  },
  {
   "cell_type": "markdown",
   "metadata": {},
   "source": [
    "Divirta-se!!"
   ]
  },
  {
   "cell_type": "markdown",
   "metadata": {},
   "source": [
    "### Exercício 1 - Resolva o sistema de equações:\n",
    "\n",
    "# 1x + 1y = 18\n",
    "# 2x + 4y = 24"
   ]
  },
  {
   "cell_type": "code",
   "execution_count": 1,
   "metadata": {},
   "outputs": [
    {
     "name": "stdout",
     "output_type": "stream",
     "text": [
      "Os valores de x e y nas equações acima são, respectivamente: 24.0 -6.0\n"
     ]
    }
   ],
   "source": [
    "# Solução\n",
    "\n",
    "import numpy as np\n",
    "expressao1 = np.array([[1, 1],[2,4]])\n",
    "expressao2 = np.array([18, 24])\n",
    "\n",
    "x, y = np.linalg.solve(expressao1, expressao2)\n",
    "print(\"Os valores de x e y nas equações acima são, respectivamente:\", x, y)"
   ]
  },
  {
   "cell_type": "markdown",
   "metadata": {},
   "source": [
    "### Exercício 2 - Resolva o sistema linear abaixo:\n",
    "\n",
    "# x+y+z = 2\n",
    "\n",
    "# 2x-6y-z=-1\n",
    "\n",
    "# 3x-2z=8\n",
    "\n",
    "Dica: organize os coeficientes na orientação das linhas no sistema linear."
   ]
  },
  {
   "cell_type": "code",
   "execution_count": 2,
   "metadata": {},
   "outputs": [
    {
     "name": "stdout",
     "output_type": "stream",
     "text": [
      "[ 2.  1. -1.]\n"
     ]
    }
   ],
   "source": [
    "# Solução \n",
    "\n",
    "import numpy as np\n",
    "a = np.array([[1,1,1],[2,-6,-1],[3,0,-2]])\n",
    "b = np.array([2,-1,8])\n",
    "\n",
    "resultado1 = np.linalg.solve(a, b)\n",
    "print(resultado1)"
   ]
  },
  {
   "cell_type": "markdown",
   "metadata": {},
   "source": [
    "### Exercício 3 - Resolva o sistema linear abaixo:\n",
    "\n",
    "# x+y+z = 2\n",
    "\n",
    "# 2x-6y-z=-1\n",
    "\n",
    "# 3x-2z=8\n",
    "\n",
    "Dica: organize os coeficientes na orientação das colunas no sistema linear."
   ]
  },
  {
   "cell_type": "code",
   "execution_count": 3,
   "metadata": {},
   "outputs": [
    {
     "name": "stdout",
     "output_type": "stream",
     "text": [
      "[ 2.  1. -1.]\n"
     ]
    }
   ],
   "source": [
    "# Solução \n",
    "\n",
    "import numpy as np\n",
    "a = np.array([[1,2,3],[1,-6,0],[1,-1,-2]])\n",
    "b = np.array([2,-1,8])\n",
    "\n",
    "resultado2 = np.linalg.solve(a.T, b)\n",
    "print(resultado2)"
   ]
  },
  {
   "cell_type": "markdown",
   "metadata": {},
   "source": [
    "### Exercício 4 - Resolva o sistema linear abaixo usando o método da matriz inversa:\n",
    "\n",
    "# x+y+z = 2\n",
    "\n",
    "# 2x-6y-z=-1\n",
    "\n",
    "# 3x-2z=8"
   ]
  },
  {
   "cell_type": "code",
   "execution_count": 4,
   "metadata": {},
   "outputs": [
    {
     "name": "stdout",
     "output_type": "stream",
     "text": [
      "[ 2.  1. -1.]\n"
     ]
    }
   ],
   "source": [
    "# Solução \n",
    "\n",
    "import numpy as np\n",
    "a = np.array([[1,2,3],[1,-6,0],[1,-1,-2]])\n",
    "b = np.array([2,-1,8])\n",
    "\n",
    "# X = (A-1) . b\n",
    "resultado3 = np.dot(b, np.linalg.inv(a))\n",
    "print(resultado3)"
   ]
  },
  {
   "cell_type": "markdown",
   "metadata": {},
   "source": [
    "### Exercício 5 - Resolva o sistema linear abaixo:\n",
    "\n",
    "# 3x+2y-4z+t = 30\n",
    "\n",
    "# 2x+3y+3z+2t=150\n",
    "\n",
    "# 5x-3y+z-5t=140\n",
    "\n",
    "# x+y+z+t=60"
   ]
  },
  {
   "cell_type": "code",
   "execution_count": 5,
   "metadata": {},
   "outputs": [
    {
     "name": "stdout",
     "output_type": "stream",
     "text": [
      "[3.00000000e+01 1.00000000e+01 2.00000000e+01 2.77734574e-15]\n"
     ]
    }
   ],
   "source": [
    "# Solução \n",
    "\n",
    "A = np.array([[3, 2, -4, 1], [2, 3, 3, 2], [5, -3, 1, -5], [1, 1, 1, 1]])\n",
    "b = np.array([30, 150, 140, 60])\n",
    "resultado1 = np.linalg.solve(A, b)\n",
    "print(resultado1)"
   ]
  },
  {
   "cell_type": "markdown",
   "metadata": {},
   "source": [
    "### Exercício 6 (Desafio) - Desenvolva uma função em Python que obtenha o mesmo resultado da função solve() abaixo.\n",
    "\n",
    "Dica: sua função deve receber a equação como parâmetro e não as matrizes."
   ]
  },
  {
   "cell_type": "code",
   "execution_count": 6,
   "metadata": {},
   "outputs": [
    {
     "data": {
      "text/plain": [
       "array([[3.],\n",
       "       [4.]])"
      ]
     },
     "execution_count": 6,
     "metadata": {},
     "output_type": "execute_result"
    }
   ],
   "source": [
    "import numpy as np\n",
    "a = np.array([[3,5],[12,-3]]) \n",
    "b = np.array([[29],[24]])\n",
    "np.linalg.solve(a,b)"
   ]
  },
  {
   "cell_type": "code",
   "execution_count": 7,
   "metadata": {},
   "outputs": [],
   "source": [
    "# Solução \n",
    "\n",
    "def mysolve(eq, var=('x', 'y')):\n",
    "    import re\n",
    "\n",
    "    var_re = re.compile(r'(\\+|\\-)\\s*(\\d*)\\s*\\*?\\s*(x|y)')\n",
    "    const_re = re.compile(r'(\\+|\\-)\\s*(\\-?\\d+)$')\n",
    "\n",
    "    constants, eqns, coeffs, default  = [],[], {'x': [], 'y': []}, {'': '1'}\n",
    "\n",
    "    for e in eq.split(';'):\n",
    "        eq1 = e.replace(\"=\",\" - \").strip()\n",
    "        if not eq1.startswith('-'):\n",
    "            eq1 = '+' + eq1\n",
    "        eqns.append(eq1)\n",
    "\n",
    "    var_eq1, var_eq2 = map(var_re.findall, eqns)\n",
    "\n",
    "    constants = [-1*int(x[0][1]) for x in map(const_re.findall, eqns)]\n",
    "    [coeffs[x[2]].append(int((x[0]+ default.get(x[1], x[1])).strip())) for x in (var_eq1 + var_eq2)]\n",
    "    \n",
    "    ycoeff = coeffs['y']\n",
    "    xcoeff = coeffs['x']\n",
    "\n",
    "    # Ajuste as equações para receber y e resolva para x\n",
    "    if ycoeff[0]*ycoeff[1] > 0:\n",
    "        ycoeff[1] *= -1\n",
    "        xcoeff[0] *= ycoeff[1]\n",
    "        constants[0] *= -1*ycoeff[1]        \n",
    "    else:\n",
    "        xcoeff[0] *= -1*ycoeff[1]\n",
    "        constants[0] *= ycoeff[1]\n",
    "        \n",
    "    xcoeff[1] *= ycoeff[0]\n",
    "    constants[1] *= -1*ycoeff[0]\n",
    "\n",
    "    # Obtém x\n",
    "    xval = sum(constants)*1.0/sum(xcoeff)\n",
    "\n",
    "    # Agora resolva para y usando o valor de x\n",
    "    z = eval(eqns[0],{'x': xval, 'y': 1j})\n",
    "    yval = -z.real*1.0/z.imag\n",
    "\n",
    "    return (xval, yval)"
   ]
  },
  {
   "cell_type": "code",
   "execution_count": 8,
   "metadata": {},
   "outputs": [
    {
     "data": {
      "text/plain": [
       "(3.0, 4.0)"
      ]
     },
     "execution_count": 8,
     "metadata": {},
     "output_type": "execute_result"
    }
   ],
   "source": [
    "# Solução \n",
    "\n",
    "mysolve('3*x + 5*y = 29; 12*x - 3*y = 24')"
   ]
  },
  {
   "cell_type": "markdown",
   "metadata": {},
   "source": [
    "## Fim"
   ]
  }
 ],
 "metadata": {
  "kernelspec": {
   "display_name": "Python 3",
   "language": "python",
   "name": "python3"
  },
  "language_info": {
   "codemirror_mode": {
    "name": "ipython",
    "version": 3
   },
   "file_extension": ".py",
   "mimetype": "text/x-python",
   "name": "python",
   "nbconvert_exporter": "python",
   "pygments_lexer": "ipython3",
   "version": "3.8.5"
  }
 },
 "nbformat": 4,
 "nbformat_minor": 2
}
