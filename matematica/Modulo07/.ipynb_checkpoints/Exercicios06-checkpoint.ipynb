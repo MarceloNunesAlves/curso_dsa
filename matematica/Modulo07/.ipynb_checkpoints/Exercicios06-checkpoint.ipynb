{
 "cells": [
  {
   "cell_type": "markdown",
   "metadata": {},
   "source": [
    "# <font color='blue'>Data Science Academy</font>\n",
    "# <font color='blue'>Matemática Para Machine Learning</font>"
   ]
  },
  {
   "cell_type": "markdown",
   "metadata": {},
   "source": [
    "## Lista de Exercícios  - Capítulo 7"
   ]
  },
  {
   "cell_type": "markdown",
   "metadata": {},
   "source": [
    "O objetivo desta lista de exercícios é você praticar os principais conceitos estudados neste capítulo, ao mesmo tempo que desenvolve suas habilidades em lógica de programação com a linguagem Python. \n",
    "\n",
    "Caso tenha dúvidas, isso é absolutamente normal e faça um trabalho de pesquisa a fim de relembrar o formato das operações matemáticas.\n",
    "\n",
    "Quando encontrar o formato de uma operação que resolva o exercício proposto, use a linguagem Python para representar esta operação. Em essência, é assim que aplicamos Matemática Para Machine Learning, construindo algoritmos e representando esses algoritmos em linguagem de programação."
   ]
  },
  {
   "cell_type": "markdown",
   "metadata": {},
   "source": [
    "Divirta-se!!"
   ]
  },
  {
   "cell_type": "markdown",
   "metadata": {},
   "source": [
    "### Exercício 1 - Resolva o sistema de equações:\n",
    "\n",
    "# 1x + 1y = 18\n",
    "# 2x + 4y = 24"
   ]
  },
  {
   "cell_type": "code",
   "execution_count": null,
   "metadata": {},
   "outputs": [],
   "source": [
    "# Solução\n",
    "import numpy as np\n",
    "\n",
    "A = np.array[[1,1],[2,4]]"
   ]
  },
  {
   "cell_type": "markdown",
   "metadata": {},
   "source": [
    "### Exercício 2 - Resolva o sistema linear abaixo:\n",
    "\n",
    "# x+y+z = 2\n",
    "\n",
    "# 2x-6y-z=-1\n",
    "\n",
    "# 3x-2z=8\n",
    "\n",
    "Dica: organize os coeficientes na orientação das linhas no sistema linear."
   ]
  },
  {
   "cell_type": "code",
   "execution_count": null,
   "metadata": {},
   "outputs": [],
   "source": [
    "# Solução \n"
   ]
  },
  {
   "cell_type": "markdown",
   "metadata": {},
   "source": [
    "### Exercício 3 - Resolva o sistema linear abaixo:\n",
    "\n",
    "# x+y+z = 2\n",
    "\n",
    "# 2x-6y-z=-1\n",
    "\n",
    "# 3x-2z=8\n",
    "\n",
    "Dica: organize os coeficientes na orientação das colunas no sistema linear."
   ]
  },
  {
   "cell_type": "code",
   "execution_count": null,
   "metadata": {},
   "outputs": [],
   "source": [
    "# Solução \n"
   ]
  },
  {
   "cell_type": "markdown",
   "metadata": {},
   "source": [
    "### Exercício 4 - Resolva o sistema linear abaixo usando o método da matriz inversa:\n",
    "\n",
    "# x+y+z = 2\n",
    "\n",
    "# 2x-6y-z=-1\n",
    "\n",
    "# 3x-2z=8"
   ]
  },
  {
   "cell_type": "code",
   "execution_count": null,
   "metadata": {},
   "outputs": [],
   "source": [
    "# Solução \n"
   ]
  },
  {
   "cell_type": "markdown",
   "metadata": {},
   "source": [
    "### Exercício 5 - Resolva o sistema linear abaixo:\n",
    "\n",
    "# 3x+2y-4z+t = 30\n",
    "\n",
    "# 2x+3y+3z+2t=150\n",
    "\n",
    "# 5x-3y+z-5t=140\n",
    "\n",
    "# x+y+z+t=60"
   ]
  },
  {
   "cell_type": "code",
   "execution_count": null,
   "metadata": {},
   "outputs": [],
   "source": [
    "# Solução \n"
   ]
  },
  {
   "cell_type": "markdown",
   "metadata": {},
   "source": [
    "### Exercício 6 (Desafio) - Desenvolva uma função em Python que obtenha o mesmo resultado da função solve() abaixo.\n",
    "\n",
    "Dica: sua função deve receber a equação como parâmetro e não as matrizes."
   ]
  },
  {
   "cell_type": "code",
   "execution_count": null,
   "metadata": {},
   "outputs": [],
   "source": [
    "import numpy as np\n",
    "a = np.array([[3,5],[12,-3]]) \n",
    "b = np.array([[29],[24]])\n",
    "np.linalg.solve(a,b)"
   ]
  },
  {
   "cell_type": "code",
   "execution_count": null,
   "metadata": {},
   "outputs": [],
   "source": [
    "# Solução \n",
    "\n",
    "def mysolve(eq, var=('x', 'y')):\n",
    "    # Código aqui"
   ]
  },
  {
   "cell_type": "code",
   "execution_count": null,
   "metadata": {},
   "outputs": [],
   "source": [
    "# Solução \n",
    "\n",
    "mysolve('3*x + 5*y = 29; 12*x - 3*y = 24')"
   ]
  },
  {
   "cell_type": "markdown",
   "metadata": {},
   "source": [
    "## Fim"
   ]
  }
 ],
 "metadata": {
  "kernelspec": {
   "display_name": "Python 3",
   "language": "python",
   "name": "python3"
  },
  "language_info": {
   "codemirror_mode": {
    "name": "ipython",
    "version": 3
   },
   "file_extension": ".py",
   "mimetype": "text/x-python",
   "name": "python",
   "nbconvert_exporter": "python",
   "pygments_lexer": "ipython3",
   "version": "3.8.5"
  }
 },
 "nbformat": 4,
 "nbformat_minor": 2
}
